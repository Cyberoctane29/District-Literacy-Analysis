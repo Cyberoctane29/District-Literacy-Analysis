{
 "cells": [
  {
   "cell_type": "markdown",
   "metadata": {},
   "source": [
    "# District Literacy Analysis"
   ]
  },
  {
   "cell_type": "markdown",
   "metadata": {},
   "source": [
    "## Introduction\n",
    "\n",
    "In this notebook, I will analyze literacy rate data for districts in a large nation, where I am working as a data professional for the Department of Education. This dataset provides valuable insights into education levels across different regions. By exploring the distribution of literacy rates and identifying key patterns, this analysis will contribute to a better understanding of educational disparities and trends."
   ]
  },
  {
   "cell_type": "markdown",
   "metadata": {},
   "source": [
    "## Overview\n",
    "\n",
    "In this notebook, I will explore and analyze literacy rate data for each district, applying various statistical techniques to summarize and interpret the dataset. To achieve this, I will perform the following analyses:\n",
    "\n",
    "- Compute descriptive statistics to summarize district literacy rates.\n",
    "- Use the normal distribution to model the data and identify patterns.\n",
    "- Calculate z-scores to detect potential outliers.\n",
    "- Simulate random sampling and estimate population means.\n",
    "- Construct confidence intervals to assess the reliability of estimates.\n",
    "- Conduct a two-sample hypothesis test to compare different district literacy rates.\n",
    "\n",
    "By performing these analyses, I aim to gain a deeper understanding of literacy trends across districts, evaluate data distribution characteristics, and ensure the accuracy and reliability of the dataset for further research.\n"
   ]
  },
  {
   "cell_type": "markdown",
   "metadata": {},
   "source": [
    "## Dataset Structure\n",
    "\n",
    "### District Demographics Dataset\n",
    "This dataset contains demographic and administrative information about various districts in a given state. Each record represents a district and includes details on its population, administrative divisions, and literacy rates. Below is a description of the key fields in this dataset:\n",
    "\n",
    "- **DISTNAME**: The name of the district.\n",
    "- **STATNAME**: The name of the state to which the district belongs.\n",
    "- **BLOCKS**: The number of administrative blocks within the district.\n",
    "- **VILLAGES**: The total number of villages in the district.\n",
    "- **CLUSTERS**: The number of clusters present in the district.\n",
    "- **TOTPOPULAT**: The total population of the district.\n",
    "- **OVERALL_LI**: The overall literacy rate of the district (expressed as a percentage).\n"
   ]
  },
  {
   "cell_type": "markdown",
   "metadata": {},
   "source": [
    "## Importing Required Libraries\n",
    "Before beginning the analysis, it is essential to import all necessary libraries. "
   ]
  },
  {
   "cell_type": "code",
   "execution_count": 65,
   "metadata": {},
   "outputs": [],
   "source": [
    "import numpy as np\n",
    "import pandas as pd\n",
    "from scipy import stats\n",
    "import statsmodels.api as sm\n",
    "import matplotlib.pyplot as plt"
   ]
  },
  {
   "cell_type": "markdown",
   "metadata": {},
   "source": [
    "# Exploring Data Insights: Computing Descriptive Statistics with Python"
   ]
  },
  {
   "cell_type": "markdown",
   "metadata": {},
   "source": [
    "## Introduction\n",
    "\n",
    "In this section, I will compute descriptive statistics to explore and summarize the literacy rate data for each district in the education dataset. Descriptive statistics provide key insights into the distribution, central tendency, and variability of the data, helping me better understand patterns and trends. This step follows data cleaning and serves as a crucial part of exploratory data analysis (EDA), allowing me to assess the dataset before moving on to more complex analyses. By summarizing the dataset numerically, I can identify potential outliers, detect inconsistencies, and gain a clearer picture of the overall data structure."
   ]
  },
  {
   "cell_type": "markdown",
   "metadata": {},
   "source": [
    "I will load the dataset and display a sample of the data."
   ]
  },
  {
   "cell_type": "code",
   "execution_count": 66,
   "metadata": {},
   "outputs": [],
   "source": [
    "education_districtwise = pd.read_csv(r'C:\\Users\\saswa\\Documents\\GitHub\\District-Literacy-Analysis\\Data\\education_districtwise.csv')"
   ]
  },
  {
   "cell_type": "markdown",
   "metadata": {},
   "source": [
    "### Exploring the Data\n",
    "\n",
    "To get a quick overview of the dataset, I use the `head()` function. This allows me to see the first few rows and understand the structure of the data."
   ]
  },
  {
   "cell_type": "code",
   "execution_count": 67,
   "metadata": {},
   "outputs": [
    {
     "data": {
      "text/html": [
       "<div>\n",
       "<style scoped>\n",
       "    .dataframe tbody tr th:only-of-type {\n",
       "        vertical-align: middle;\n",
       "    }\n",
       "\n",
       "    .dataframe tbody tr th {\n",
       "        vertical-align: top;\n",
       "    }\n",
       "\n",
       "    .dataframe thead th {\n",
       "        text-align: right;\n",
       "    }\n",
       "</style>\n",
       "<table border=\"1\" class=\"dataframe\">\n",
       "  <thead>\n",
       "    <tr style=\"text-align: right;\">\n",
       "      <th></th>\n",
       "      <th>DISTNAME</th>\n",
       "      <th>STATNAME</th>\n",
       "      <th>BLOCKS</th>\n",
       "      <th>VILLAGES</th>\n",
       "      <th>CLUSTERS</th>\n",
       "      <th>TOTPOPULAT</th>\n",
       "      <th>OVERALL_LI</th>\n",
       "    </tr>\n",
       "  </thead>\n",
       "  <tbody>\n",
       "    <tr>\n",
       "      <th>0</th>\n",
       "      <td>DISTRICT32</td>\n",
       "      <td>STATE1</td>\n",
       "      <td>13</td>\n",
       "      <td>391</td>\n",
       "      <td>104</td>\n",
       "      <td>875564.0</td>\n",
       "      <td>66.92</td>\n",
       "    </tr>\n",
       "    <tr>\n",
       "      <th>1</th>\n",
       "      <td>DISTRICT649</td>\n",
       "      <td>STATE1</td>\n",
       "      <td>18</td>\n",
       "      <td>678</td>\n",
       "      <td>144</td>\n",
       "      <td>1015503.0</td>\n",
       "      <td>66.93</td>\n",
       "    </tr>\n",
       "    <tr>\n",
       "      <th>2</th>\n",
       "      <td>DISTRICT229</td>\n",
       "      <td>STATE1</td>\n",
       "      <td>8</td>\n",
       "      <td>94</td>\n",
       "      <td>65</td>\n",
       "      <td>1269751.0</td>\n",
       "      <td>71.21</td>\n",
       "    </tr>\n",
       "    <tr>\n",
       "      <th>3</th>\n",
       "      <td>DISTRICT259</td>\n",
       "      <td>STATE1</td>\n",
       "      <td>13</td>\n",
       "      <td>523</td>\n",
       "      <td>104</td>\n",
       "      <td>735753.0</td>\n",
       "      <td>57.98</td>\n",
       "    </tr>\n",
       "    <tr>\n",
       "      <th>4</th>\n",
       "      <td>DISTRICT486</td>\n",
       "      <td>STATE1</td>\n",
       "      <td>8</td>\n",
       "      <td>359</td>\n",
       "      <td>64</td>\n",
       "      <td>570060.0</td>\n",
       "      <td>65.00</td>\n",
       "    </tr>\n",
       "    <tr>\n",
       "      <th>5</th>\n",
       "      <td>DISTRICT323</td>\n",
       "      <td>STATE1</td>\n",
       "      <td>12</td>\n",
       "      <td>523</td>\n",
       "      <td>96</td>\n",
       "      <td>1070144.0</td>\n",
       "      <td>64.32</td>\n",
       "    </tr>\n",
       "    <tr>\n",
       "      <th>6</th>\n",
       "      <td>DISTRICT114</td>\n",
       "      <td>STATE1</td>\n",
       "      <td>6</td>\n",
       "      <td>110</td>\n",
       "      <td>49</td>\n",
       "      <td>147104.0</td>\n",
       "      <td>80.48</td>\n",
       "    </tr>\n",
       "    <tr>\n",
       "      <th>7</th>\n",
       "      <td>DISTRICT438</td>\n",
       "      <td>STATE1</td>\n",
       "      <td>7</td>\n",
       "      <td>134</td>\n",
       "      <td>54</td>\n",
       "      <td>143388.0</td>\n",
       "      <td>74.49</td>\n",
       "    </tr>\n",
       "    <tr>\n",
       "      <th>8</th>\n",
       "      <td>DISTRICT610</td>\n",
       "      <td>STATE1</td>\n",
       "      <td>10</td>\n",
       "      <td>388</td>\n",
       "      <td>80</td>\n",
       "      <td>409576.0</td>\n",
       "      <td>65.97</td>\n",
       "    </tr>\n",
       "    <tr>\n",
       "      <th>9</th>\n",
       "      <td>DISTRICT476</td>\n",
       "      <td>STATE1</td>\n",
       "      <td>11</td>\n",
       "      <td>361</td>\n",
       "      <td>86</td>\n",
       "      <td>555357.0</td>\n",
       "      <td>69.90</td>\n",
       "    </tr>\n",
       "  </tbody>\n",
       "</table>\n",
       "</div>"
      ],
      "text/plain": [
       "      DISTNAME STATNAME  BLOCKS  VILLAGES  CLUSTERS  TOTPOPULAT  OVERALL_LI\n",
       "0   DISTRICT32   STATE1      13       391       104    875564.0       66.92\n",
       "1  DISTRICT649   STATE1      18       678       144   1015503.0       66.93\n",
       "2  DISTRICT229   STATE1       8        94        65   1269751.0       71.21\n",
       "3  DISTRICT259   STATE1      13       523       104    735753.0       57.98\n",
       "4  DISTRICT486   STATE1       8       359        64    570060.0       65.00\n",
       "5  DISTRICT323   STATE1      12       523        96   1070144.0       64.32\n",
       "6  DISTRICT114   STATE1       6       110        49    147104.0       80.48\n",
       "7  DISTRICT438   STATE1       7       134        54    143388.0       74.49\n",
       "8  DISTRICT610   STATE1      10       388        80    409576.0       65.97\n",
       "9  DISTRICT476   STATE1      11       361        86    555357.0       69.90"
      ]
     },
     "execution_count": 67,
     "metadata": {},
     "output_type": "execute_result"
    }
   ],
   "source": [
    "education_districtwise.head(10)"
   ]
  },
  {
   "cell_type": "markdown",
   "metadata": {},
   "source": [
    "Each row in this dataset represents a district, not a state or village. Some key columns I note:\n",
    "\n",
    "- `VILLAGES`: Number of villages in each district\n",
    "\n",
    "- `TOTPOPULAT`: Population of each district\n",
    "\n",
    "- `OVERALL_LI`: Literacy rate for each district\n",
    "\n",
    "Understanding this hierarchy helps me analyze the data correctly.\n",
    "\n",
    "The hierarchy generally follows this structure:\n",
    "\n",
    "Hierarchy: State → District → Block → Cluster → Village"
   ]
  },
  {
   "cell_type": "markdown",
   "metadata": {},
   "source": [
    "#### Computing Descriptive Statistics\n",
    "\n",
    "Once I have an idea of the dataset, I use Python’s `describe()` function to compute key statistics. This function is useful because it provides multiple descriptive statistics at once.\n",
    "\n",
    "The main interest is the literacy rate. This data is contained in the `OVERALL_LI` column, which shows the literacy rate for each district in the nation."
   ]
  },
  {
   "cell_type": "code",
   "execution_count": 68,
   "metadata": {},
   "outputs": [
    {
     "data": {
      "text/plain": [
       "count    634.000000\n",
       "mean      73.395189\n",
       "std       10.098460\n",
       "min       37.220000\n",
       "25%       66.437500\n",
       "50%       73.490000\n",
       "75%       80.815000\n",
       "max       98.760000\n",
       "Name: OVERALL_LI, dtype: float64"
      ]
     },
     "execution_count": 68,
     "metadata": {},
     "output_type": "execute_result"
    }
   ],
   "source": [
    "education_districtwise['OVERALL_LI'].describe()"
   ]
  },
  {
   "cell_type": "markdown",
   "metadata": {},
   "source": [
    "Here’s what each metric means:\n",
    "\n",
    "- `count`: Total number of districts with available literacy rate data\n",
    "\n",
    "- `mean`: Average literacy rate across all districts\n",
    "\n",
    "- `std`: Standard deviation, showing how much the data varies\n",
    "\n",
    "- `min` and `max`: Lowest and highest literacy rates\n",
    "\n",
    "- `25%`, `50%`, `75%`: Percentile values that help understand data distribution"
   ]
  },
  {
   "cell_type": "markdown",
   "metadata": {},
   "source": [
    "The summary of stats gives me valuable insights into the overall literacy rate. For example, the mean helps me understand the center of my dataset—I now know that the average literacy rate is about 73% for all districts. This information is useful on its own and also serves as a basis for comparison. Knowing the mean literacy rate for all districts allows me to identify which individual districts are significantly above or below the average."
   ]
  },
  {
   "cell_type": "markdown",
   "metadata": {},
   "source": [
    "#### Analyzing Categorical Data\n",
    "\n",
    "I also explore categorical data using `describe()`. For example, I check how many unique states are represented and which state appears the most:"
   ]
  },
  {
   "cell_type": "code",
   "execution_count": 69,
   "metadata": {},
   "outputs": [
    {
     "data": {
      "text/plain": [
       "count         680\n",
       "unique         36\n",
       "top       STATE21\n",
       "freq           75\n",
       "Name: STATNAME, dtype: object"
      ]
     },
     "execution_count": 69,
     "metadata": {},
     "output_type": "execute_result"
    }
   ],
   "source": [
    "education_districtwise['STATNAME'].describe()"
   ]
  },
  {
   "cell_type": "markdown",
   "metadata": {},
   "source": [
    "For a categorical column, `describe()` gives you the following output: \n",
    "\n",
    "*   `count`: Number of non-NA/null observations\n",
    "*  `unique`: Number of unique values\n",
    "*   `top`: The most common value (the mode)\n",
    "*   `freq`: The frequency of the most common value\n"
   ]
  },
  {
   "cell_type": "markdown",
   "metadata": {},
   "source": [
    "The dataset contains 36 unique states. The most common state (`STATE21`) appears in 75 districts, meaning it has more districts compared to other states. This information could be useful in identifying states with a higher need for educational resources."
   ]
  },
  {
   "cell_type": "markdown",
   "metadata": {},
   "source": [
    "#### Calculating Range in Literacy Rate\n",
    "\n",
    "To measure the spread of literacy rates, I calculate the range using the max() and min() functions."
   ]
  },
  {
   "cell_type": "code",
   "execution_count": 70,
   "metadata": {},
   "outputs": [
    {
     "data": {
      "text/plain": [
       "np.float64(61.540000000000006)"
      ]
     },
     "execution_count": 70,
     "metadata": {},
     "output_type": "execute_result"
    }
   ],
   "source": [
    "range_overall_li = education_districtwise['OVERALL_LI'].max() - education_districtwise['OVERALL_LI'].min()\n",
    "range_overall_li"
   ]
  },
  {
   "cell_type": "markdown",
   "metadata": {},
   "source": [
    "The result shows a range of about 61.5 percentage points, indicating significant differences in literacy rates among districts. This variation highlights disparities in education levels across different regions."
   ]
  },
  {
   "cell_type": "markdown",
   "metadata": {},
   "source": [
    "### Key Takeaways\n",
    "\n",
    "- The dataset contains literacy rate data for different districts, helping in identifying educational disparities.\n",
    "\n",
    "- The average literacy rate is about 73%, providing a benchmark for comparison.\n",
    "\n",
    "- Some districts have significantly lower literacy rates than others, with a range of 61.5 percentage points.\n",
    "\n",
    "- The most common state in the dataset includes 75 districts, showing variation in state-wise district representation."
   ]
  },
  {
   "cell_type": "markdown",
   "metadata": {},
   "source": [
    "# Analyzing Probability Distributions in Python"
   ]
  },
  {
   "cell_type": "markdown",
   "metadata": {},
   "source": [
    "## Introduction\n",
    "In this section, I will use the normal distribution to model the data and compute z-scores to identify potential outliers. By analyzing the distribution of district literacy rates, I can determine whether the data follows a specific pattern and detect any anomalies. This builds on my previous analysis, where I summarized the data using descriptive statistics. Now, I will take a deeper dive into probability distributions to uncover meaningful insights about literacy rates across districts by determining whether the data follows a specific type of probability distribution."
   ]
  },
  {
   "cell_type": "markdown",
   "metadata": {},
   "source": [
    "Throughout this analysis, I will use pandas and numpy for data manipulation, matplotlib for visualization, and the SciPy stats module for statistical analysis. The SciPy stats module provides a comprehensive set of functions for working with probability distributions and statistical calculations, making it a valuable tool for this analysis."
   ]
  },
  {
   "cell_type": "code",
   "execution_count": 71,
   "metadata": {},
   "outputs": [],
   "source": [
    "education_districtwise = education_districtwise.dropna()"
   ]
  },
  {
   "cell_type": "markdown",
   "metadata": {},
   "source": [
    "NOTE: I use dropna() to remove missing values in my data."
   ]
  },
  {
   "cell_type": "code",
   "execution_count": 72,
   "metadata": {},
   "outputs": [
    {
     "name": "stdout",
     "output_type": "stream",
     "text": [
      "<class 'pandas.core.frame.DataFrame'>\n",
      "Index: 634 entries, 0 to 679\n",
      "Data columns (total 7 columns):\n",
      " #   Column      Non-Null Count  Dtype  \n",
      "---  ------      --------------  -----  \n",
      " 0   DISTNAME    634 non-null    object \n",
      " 1   STATNAME    634 non-null    object \n",
      " 2   BLOCKS      634 non-null    int64  \n",
      " 3   VILLAGES    634 non-null    int64  \n",
      " 4   CLUSTERS    634 non-null    int64  \n",
      " 5   TOTPOPULAT  634 non-null    float64\n",
      " 6   OVERALL_LI  634 non-null    float64\n",
      "dtypes: float64(2), int64(3), object(2)\n",
      "memory usage: 39.6+ KB\n"
     ]
    }
   ],
   "source": [
    "education_districtwise.info()"
   ]
  },
  {
   "cell_type": "markdown",
   "metadata": {},
   "source": [
    "### Plot a histogram"
   ]
  },
  {
   "cell_type": "markdown",
   "metadata": {},
   "source": [
    "The first step in trying to model my data with a probability distribution is to plot a histogram. This helps me visualize the shape of my data and determine if it resembles the shape of a specific distribution.\n",
    "\n",
    "I use matplotlib’s histogram function to plot a histogram of the district literacy rate data. The `OVERALL_LI` column contains this data."
   ]
  },
  {
   "cell_type": "code",
   "execution_count": 73,
   "metadata": {},
   "outputs": [
    {
     "data": {
      "text/plain": [
       "<Axes: >"
      ]
     },
     "execution_count": 73,
     "metadata": {},
     "output_type": "execute_result"
    },
    {
     "data": {
      "image/png": "[encoded data removed]",
      "text/plain": [
       "<Figure size 640x480 with 1 Axes>"
      ]
     },
     "metadata": {},
     "output_type": "display_data"
    }
   ],
   "source": [
    "education_districtwise['OVERALL_LI'].hist()"
   ]
  },
  {
   "cell_type": "markdown",
   "metadata": {},
   "source": [
    "## Normal distribution\n",
    "\n",
    "The histogram shows that the distribution of the literacy rate data is bell-shaped and symmetric about the mean. The mean literacy rate, which is around 73%, is located in the center of the plot. The normal distribution is a continuous probability distribution that is bell-shaped and symmetrical on both sides of the mean. The shape of the histogram suggests that the normal distribution might be a good modeling option for the data."
   ]
  },
  {
   "cell_type": "markdown",
   "metadata": {},
   "source": [
    "## Empirical rule\n",
    "\n",
    "Since the normal distribution seems like a good fit for the district literacy rate data, I can expect the empirical rule to apply relatively well. **The empirical rule** states that for a normal distribution:\n",
    "\n",
    "- **68%** of the values fall within +/- 1 SD from the mean\n",
    "\n",
    "- **95%** of the values fall within +/- 2 SD from the mean\n",
    "\n",
    "- **99.7%** of the values fall within +/- 3 SD from the mean\n",
    "\n",
    "NOTE: \"SD\" stands for standard deviation.\n",
    "\n",
    " In other words, we can expect that about:\n",
    "\n",
    "*   **68%** of district literacy rates will fall within +/- 1 SD from the mean.\n",
    "*   **95%** of district literacy rates will fall within +/- 2 SD from the mean.\n",
    "*   **99.7%** of district literacy rates will fall within +/- 3 SD from the mean.\n",
    "\n"
   ]
  },
  {
   "cell_type": "markdown",
   "metadata": {},
   "source": [
    "I name two new variables to store the values for the mean and standard deviation of the district literacy rate: `mean_overall_li` and `std_overall_li`."
   ]
  },
  {
   "cell_type": "code",
   "execution_count": 74,
   "metadata": {},
   "outputs": [
    {
     "name": "stdout",
     "output_type": "stream",
     "text": [
      "73.39518927444796\n",
      "10.098460413782467\n"
     ]
    }
   ],
   "source": [
    "mean_overall_li = education_districtwise['OVERALL_LI'].mean()\n",
    "std_overall_li = education_districtwise['OVERALL_LI'].std()\n",
    "print(mean_overall_li)\n",
    "print(std_overall_li)"
   ]
  },
  {
   "cell_type": "markdown",
   "metadata": {},
   "source": [
    "- The mean district literacy rate is about 73.4%.\n",
    "- The standard deviation is about 10%."
   ]
  },
  {
   "cell_type": "markdown",
   "metadata": {},
   "source": [
    "Now, I will compute the actual percentage of district literacy rates that fall within ±1 standard deviation from the mean.\n",
    "\n",
    "First, I will define two new variables: lower_limit and upper_limit. The lower limit represents one standard deviation below the mean, calculated as mean - (1 * SD), while the upper limit represents one standard deviation above the mean, calculated as mean + (1 * SD). To perform these calculations, I will use my previously defined variables, mean_overall_li and std_overall_li, which store the mean and standard deviation.\n",
    "\n",
    "Next, I will write a line of code that checks whether each value in the OVERALL_LI column falls between the lower and upper limits. I will use relational operators (>= and <=) along with the bitwise AND (&) operator to filter these values. Finally, I will apply the mean() function to determine the proportion of values within this range, effectively dividing the count of values within 1 standard deviation of the mean by the total number of values."
   ]
  },
  {
   "cell_type": "code",
   "execution_count": 75,
   "metadata": {},
   "outputs": [
    {
     "data": {
      "text/plain": [
       "np.float64(0.6640378548895899)"
      ]
     },
     "execution_count": 75,
     "metadata": {},
     "output_type": "execute_result"
    }
   ],
   "source": [
    "lower_limit = mean_overall_li - 1 * std_overall_li\n",
    "upper_limit = mean_overall_li + 1 * std_overall_li\n",
    "((education_districtwise['OVERALL_LI'] >= lower_limit) & (education_districtwise['OVERALL_LI'] <= upper_limit)).mean()"
   ]
  },
  {
   "cell_type": "markdown",
   "metadata": {},
   "source": [
    "Using the explicit 1 × SD notation is functionally the same as directly adding or subtracting the standard deviation, but it improves clarity and flexibility. This approach is especially useful when adjusting the range, such as using 2 × SD for a broader interval. It also makes the code more readable and easier for others to understand.\n",
    "\n",
    "Now, I will use the same code structure to calculate the percentage of district literacy rates that fall within ±2 standard deviations from the mean."
   ]
  },
  {
   "cell_type": "code",
   "execution_count": 76,
   "metadata": {},
   "outputs": [
    {
     "data": {
      "text/plain": [
       "np.float64(0.9542586750788643)"
      ]
     },
     "execution_count": 76,
     "metadata": {},
     "output_type": "execute_result"
    }
   ],
   "source": [
    "lower_limit = mean_overall_li - 2 * std_overall_li\n",
    "upper_limit = mean_overall_li + 2 * std_overall_li\n",
    "((education_districtwise['OVERALL_LI'] >= lower_limit) & (education_districtwise['OVERALL_LI'] <= upper_limit)).mean()"
   ]
  },
  {
   "cell_type": "markdown",
   "metadata": {},
   "source": [
    "Finally, I compute the actual percentage of district literacy rates that fall within +/- 3 SD from the mean."
   ]
  },
  {
   "cell_type": "code",
   "execution_count": 77,
   "metadata": {},
   "outputs": [
    {
     "data": {
      "text/plain": [
       "np.float64(0.9968454258675079)"
      ]
     },
     "execution_count": 77,
     "metadata": {},
     "output_type": "execute_result"
    }
   ],
   "source": [
    "lower_limit = mean_overall_li - 3 * std_overall_li\n",
    "upper_limit = mean_overall_li + 3 * std_overall_li\n",
    "((education_districtwise['OVERALL_LI'] >= lower_limit) & (education_districtwise['OVERALL_LI'] <= upper_limit)).mean()"
   ]
  },
  {
   "cell_type": "markdown",
   "metadata": {},
   "source": [
    "My calculated values—66.4%, 95.4%, and 99.6%—align closely with the empirical rule, which predicts approximately 68%, 95%, and 99.7%. This confirms that my data follows a normal distribution.\n",
    "\n",
    "A normal distribution is valuable in analysis since many statistical tests and machine learning models rely on this assumption. Additionally, it allows me to use z-scores to determine the relative position of values and detect outliers.\n",
    "\n",
    "If my data isn't normally distributed, alternative outlier detection methods may be more suitable:\n",
    "\n",
    "- Interquartile Range (IQR): Identifies outliers based on values beyond 1.5 times the IQR.\n",
    "- Modified Z-Scores (MAD-based): Uses the median and median absolute deviation, making it more robust to non-normal data.\n",
    "- Boxplots: Provide a visual representation of data spread and highlight extreme values without assuming normality."
   ]
  },
  {
   "cell_type": "markdown",
   "metadata": {},
   "source": [
    "## Compute z-scores to find outliers\n",
    "\n",
    "A z-score is a measure of how many standard deviations below or above the population mean a data point is. A z-score is useful because it tells me where a value lies in a distribution.\n",
    "\n",
    "Data professionals often use z-scores for outlier detection. Typically, they consider observations with a z-score smaller than -3 or larger than +3 as outliers. In other words, these are values that lie more than +/- 3 SDs from the mean.\n",
    "\n",
    "To find outliers in the data, I first create a new column called `Z_SCORE` that includes the z-scores for each district literacy rate in my dataset."
   ]
  },
  {
   "cell_type": "code",
   "execution_count": 78,
   "metadata": {},
   "outputs": [
    {
     "data": {
      "text/html": [
       "<div>\n",
       "<style scoped>\n",
       "    .dataframe tbody tr th:only-of-type {\n",
       "        vertical-align: middle;\n",
       "    }\n",
       "\n",
       "    .dataframe tbody tr th {\n",
       "        vertical-align: top;\n",
       "    }\n",
       "\n",
       "    .dataframe thead th {\n",
       "        text-align: right;\n",
       "    }\n",
       "</style>\n",
       "<table border=\"1\" class=\"dataframe\">\n",
       "  <thead>\n",
       "    <tr style=\"text-align: right;\">\n",
       "      <th></th>\n",
       "      <th>DISTNAME</th>\n",
       "      <th>STATNAME</th>\n",
       "      <th>BLOCKS</th>\n",
       "      <th>VILLAGES</th>\n",
       "      <th>CLUSTERS</th>\n",
       "      <th>TOTPOPULAT</th>\n",
       "      <th>OVERALL_LI</th>\n",
       "      <th>Z_SCORE</th>\n",
       "    </tr>\n",
       "  </thead>\n",
       "  <tbody>\n",
       "    <tr>\n",
       "      <th>0</th>\n",
       "      <td>DISTRICT32</td>\n",
       "      <td>STATE1</td>\n",
       "      <td>13</td>\n",
       "      <td>391</td>\n",
       "      <td>104</td>\n",
       "      <td>875564.0</td>\n",
       "      <td>66.92</td>\n",
       "      <td>-0.641712</td>\n",
       "    </tr>\n",
       "    <tr>\n",
       "      <th>1</th>\n",
       "      <td>DISTRICT649</td>\n",
       "      <td>STATE1</td>\n",
       "      <td>18</td>\n",
       "      <td>678</td>\n",
       "      <td>144</td>\n",
       "      <td>1015503.0</td>\n",
       "      <td>66.93</td>\n",
       "      <td>-0.640721</td>\n",
       "    </tr>\n",
       "    <tr>\n",
       "      <th>2</th>\n",
       "      <td>DISTRICT229</td>\n",
       "      <td>STATE1</td>\n",
       "      <td>8</td>\n",
       "      <td>94</td>\n",
       "      <td>65</td>\n",
       "      <td>1269751.0</td>\n",
       "      <td>71.21</td>\n",
       "      <td>-0.216559</td>\n",
       "    </tr>\n",
       "    <tr>\n",
       "      <th>3</th>\n",
       "      <td>DISTRICT259</td>\n",
       "      <td>STATE1</td>\n",
       "      <td>13</td>\n",
       "      <td>523</td>\n",
       "      <td>104</td>\n",
       "      <td>735753.0</td>\n",
       "      <td>57.98</td>\n",
       "      <td>-1.527694</td>\n",
       "    </tr>\n",
       "    <tr>\n",
       "      <th>4</th>\n",
       "      <td>DISTRICT486</td>\n",
       "      <td>STATE1</td>\n",
       "      <td>8</td>\n",
       "      <td>359</td>\n",
       "      <td>64</td>\n",
       "      <td>570060.0</td>\n",
       "      <td>65.00</td>\n",
       "      <td>-0.831990</td>\n",
       "    </tr>\n",
       "    <tr>\n",
       "      <th>...</th>\n",
       "      <td>...</td>\n",
       "      <td>...</td>\n",
       "      <td>...</td>\n",
       "      <td>...</td>\n",
       "      <td>...</td>\n",
       "      <td>...</td>\n",
       "      <td>...</td>\n",
       "      <td>...</td>\n",
       "    </tr>\n",
       "    <tr>\n",
       "      <th>675</th>\n",
       "      <td>DISTRICT522</td>\n",
       "      <td>STATE29</td>\n",
       "      <td>37</td>\n",
       "      <td>876</td>\n",
       "      <td>137</td>\n",
       "      <td>5296396.0</td>\n",
       "      <td>78.05</td>\n",
       "      <td>0.461307</td>\n",
       "    </tr>\n",
       "    <tr>\n",
       "      <th>676</th>\n",
       "      <td>DISTRICT498</td>\n",
       "      <td>STATE29</td>\n",
       "      <td>64</td>\n",
       "      <td>1458</td>\n",
       "      <td>230</td>\n",
       "      <td>4042191.0</td>\n",
       "      <td>56.06</td>\n",
       "      <td>-1.717972</td>\n",
       "    </tr>\n",
       "    <tr>\n",
       "      <th>677</th>\n",
       "      <td>DISTRICT343</td>\n",
       "      <td>STATE29</td>\n",
       "      <td>59</td>\n",
       "      <td>1117</td>\n",
       "      <td>216</td>\n",
       "      <td>3483648.0</td>\n",
       "      <td>65.05</td>\n",
       "      <td>-0.827035</td>\n",
       "    </tr>\n",
       "    <tr>\n",
       "      <th>678</th>\n",
       "      <td>DISTRICT130</td>\n",
       "      <td>STATE29</td>\n",
       "      <td>51</td>\n",
       "      <td>993</td>\n",
       "      <td>211</td>\n",
       "      <td>3522644.0</td>\n",
       "      <td>66.16</td>\n",
       "      <td>-0.717030</td>\n",
       "    </tr>\n",
       "    <tr>\n",
       "      <th>679</th>\n",
       "      <td>DISTRICT341</td>\n",
       "      <td>STATE29</td>\n",
       "      <td>41</td>\n",
       "      <td>783</td>\n",
       "      <td>185</td>\n",
       "      <td>2798214.0</td>\n",
       "      <td>65.46</td>\n",
       "      <td>-0.786403</td>\n",
       "    </tr>\n",
       "  </tbody>\n",
       "</table>\n",
       "<p>634 rows × 8 columns</p>\n",
       "</div>"
      ],
      "text/plain": [
       "        DISTNAME STATNAME  BLOCKS  VILLAGES  CLUSTERS  TOTPOPULAT  OVERALL_LI  \\\n",
       "0     DISTRICT32   STATE1      13       391       104    875564.0       66.92   \n",
       "1    DISTRICT649   STATE1      18       678       144   1015503.0       66.93   \n",
       "2    DISTRICT229   STATE1       8        94        65   1269751.0       71.21   \n",
       "3    DISTRICT259   STATE1      13       523       104    735753.0       57.98   \n",
       "4    DISTRICT486   STATE1       8       359        64    570060.0       65.00   \n",
       "..           ...      ...     ...       ...       ...         ...         ...   \n",
       "675  DISTRICT522  STATE29      37       876       137   5296396.0       78.05   \n",
       "676  DISTRICT498  STATE29      64      1458       230   4042191.0       56.06   \n",
       "677  DISTRICT343  STATE29      59      1117       216   3483648.0       65.05   \n",
       "678  DISTRICT130  STATE29      51       993       211   3522644.0       66.16   \n",
       "679  DISTRICT341  STATE29      41       783       185   2798214.0       65.46   \n",
       "\n",
       "      Z_SCORE  \n",
       "0   -0.641712  \n",
       "1   -0.640721  \n",
       "2   -0.216559  \n",
       "3   -1.527694  \n",
       "4   -0.831990  \n",
       "..        ...  \n",
       "675  0.461307  \n",
       "676 -1.717972  \n",
       "677 -0.827035  \n",
       "678 -0.717030  \n",
       "679 -0.786403  \n",
       "\n",
       "[634 rows x 8 columns]"
      ]
     },
     "execution_count": 78,
     "metadata": {},
     "output_type": "execute_result"
    }
   ],
   "source": [
    "education_districtwise['Z_SCORE'] = stats.zscore(education_districtwise['OVERALL_LI'])\n",
    "education_districtwise"
   ]
  },
  {
   "cell_type": "markdown",
   "metadata": {},
   "source": [
    "Now that I have computed z-scores for my dataset, I write some code to identify outliers, or districts with z-scores that are more than +/- 3 SDs from the mean."
   ]
  },
  {
   "cell_type": "code",
   "execution_count": 79,
   "metadata": {},
   "outputs": [
    {
     "data": {
      "text/html": [
       "<div>\n",
       "<style scoped>\n",
       "    .dataframe tbody tr th:only-of-type {\n",
       "        vertical-align: middle;\n",
       "    }\n",
       "\n",
       "    .dataframe tbody tr th {\n",
       "        vertical-align: top;\n",
       "    }\n",
       "\n",
       "    .dataframe thead th {\n",
       "        text-align: right;\n",
       "    }\n",
       "</style>\n",
       "<table border=\"1\" class=\"dataframe\">\n",
       "  <thead>\n",
       "    <tr style=\"text-align: right;\">\n",
       "      <th></th>\n",
       "      <th>DISTNAME</th>\n",
       "      <th>STATNAME</th>\n",
       "      <th>BLOCKS</th>\n",
       "      <th>VILLAGES</th>\n",
       "      <th>CLUSTERS</th>\n",
       "      <th>TOTPOPULAT</th>\n",
       "      <th>OVERALL_LI</th>\n",
       "      <th>Z_SCORE</th>\n",
       "    </tr>\n",
       "  </thead>\n",
       "  <tbody>\n",
       "    <tr>\n",
       "      <th>434</th>\n",
       "      <td>DISTRICT461</td>\n",
       "      <td>STATE31</td>\n",
       "      <td>4</td>\n",
       "      <td>360</td>\n",
       "      <td>53</td>\n",
       "      <td>532791.0</td>\n",
       "      <td>42.67</td>\n",
       "      <td>-3.044964</td>\n",
       "    </tr>\n",
       "    <tr>\n",
       "      <th>494</th>\n",
       "      <td>DISTRICT429</td>\n",
       "      <td>STATE22</td>\n",
       "      <td>6</td>\n",
       "      <td>612</td>\n",
       "      <td>62</td>\n",
       "      <td>728677.0</td>\n",
       "      <td>37.22</td>\n",
       "      <td>-3.585076</td>\n",
       "    </tr>\n",
       "  </tbody>\n",
       "</table>\n",
       "</div>"
      ],
      "text/plain": [
       "        DISTNAME STATNAME  BLOCKS  VILLAGES  CLUSTERS  TOTPOPULAT  OVERALL_LI  \\\n",
       "434  DISTRICT461  STATE31       4       360        53    532791.0       42.67   \n",
       "494  DISTRICT429  STATE22       6       612        62    728677.0       37.22   \n",
       "\n",
       "      Z_SCORE  \n",
       "434 -3.044964  \n",
       "494 -3.585076  "
      ]
     },
     "execution_count": 79,
     "metadata": {},
     "output_type": "execute_result"
    }
   ],
   "source": [
    "education_districtwise[(education_districtwise['Z_SCORE'] > 3) | (education_districtwise['Z_SCORE'] < -3)]"
   ]
  },
  {
   "cell_type": "markdown",
   "metadata": {},
   "source": [
    "Using z-scores, I identify two outlying districts that have unusually low literacy rates: DISTRICT461 and DISTRICT429. The literacy rates in these two districts are more than 3 SDs below the overall mean literacy rate.\n",
    "\n",
    "My analysis gives me important information to share. The government may want to provide more funding and resources to these two districts in the hopes of significantly improving literacy.\n"
   ]
  },
  {
   "cell_type": "markdown",
   "metadata": {},
   "source": [
    "### Key Takeaways\n",
    "\n",
    "- The literacy rate data follows a normal distribution, making it suitable for statistical analysis using the empirical rule and z-scores.  \n",
    "- The average literacy rate is around **73%**, serving as a central reference point for district comparisons.  \n",
    "- The empirical rule holds well for this dataset, with approximately **66.4%**, **95.4%**, and **99.6%** of values falling within **1, 2, and 3 standard deviations** from the mean, respectively.  \n",
    "- Z-scores help identify outliers—districts with unusually low literacy rates. Two districts (**DISTRICT461 and DISTRICT429**) were found to have literacy rates more than **3 standard deviations below** the mean.  \n",
    "- These findings can inform policy decisions, as districts with significantly lower literacy rates may require targeted interventions, funding, and educational resources."
   ]
  },
  {
   "cell_type": "markdown",
   "metadata": {},
   "source": [
    "# Mastering Sampling in Python: Techniques and Applications"
   ]
  },
  {
   "cell_type": "markdown",
   "metadata": {},
   "source": [
    "## Introduction\n",
    "In this section, I will use Python to simulate random sampling and estimate population parameters from sample data. By leveraging libraries such as NumPy, pandas, SciPy stats, and statsmodels, I will perform statistical operations and analyze sample distributions. Additionally, I will use Matplotlib to visualize data and extract insights from my simulations. These exercises will deepen my understanding of sampling, point estimation, and the role of randomness in statistical inference."
   ]
  },
  {
   "cell_type": "markdown",
   "metadata": {},
   "source": [
    "I continue with my previous scenario, in which I am a data professional working for the Department of Education of a large nation. I analyze data on literacy rates for each district. Since I have limited time to collect data, I can only survey 50 randomly chosen districts instead of the 634 districts included in my original dataset. My goal is to estimate the mean literacy rate for all 634 districts based on my sample of 50 districts."
   ]
  },
  {
   "cell_type": "markdown",
   "metadata": {},
   "source": [
    "### Simulate Random Sampling\n",
    "\n",
    "To simulate taking a random sample of 50 districts from my dataset, I use `pandas.DataFrame.sample()`. This function allows me to randomly select rows based on specific arguments:\n",
    "\n",
    "- `n=50`: Specifies that I want a sample size of 50 districts.\n",
    "- `replace=True`: Enables sampling with replacement, meaning the same district can be selected multiple times.\n",
    "- `random_state=31208`: Sets a fixed seed for reproducibility, ensuring I get the same random sample each time I run the code.\n",
    "Now, I write my code to generate the sample by assigning it to a new variable, sampled_data, using the `sample()` function with the specified arguments."
   ]
  },
  {
   "cell_type": "code",
   "execution_count": 80,
   "metadata": {},
   "outputs": [
    {
     "data": {
      "text/html": [
       "<div>\n",
       "<style scoped>\n",
       "    .dataframe tbody tr th:only-of-type {\n",
       "        vertical-align: middle;\n",
       "    }\n",
       "\n",
       "    .dataframe tbody tr th {\n",
       "        vertical-align: top;\n",
       "    }\n",
       "\n",
       "    .dataframe thead th {\n",
       "        text-align: right;\n",
       "    }\n",
       "</style>\n",
       "<table border=\"1\" class=\"dataframe\">\n",
       "  <thead>\n",
       "    <tr style=\"text-align: right;\">\n",
       "      <th></th>\n",
       "      <th>DISTNAME</th>\n",
       "      <th>STATNAME</th>\n",
       "      <th>BLOCKS</th>\n",
       "      <th>VILLAGES</th>\n",
       "      <th>CLUSTERS</th>\n",
       "      <th>TOTPOPULAT</th>\n",
       "      <th>OVERALL_LI</th>\n",
       "      <th>Z_SCORE</th>\n",
       "    </tr>\n",
       "  </thead>\n",
       "  <tbody>\n",
       "    <tr>\n",
       "      <th>661</th>\n",
       "      <td>DISTRICT528</td>\n",
       "      <td>STATE6</td>\n",
       "      <td>9</td>\n",
       "      <td>112</td>\n",
       "      <td>89</td>\n",
       "      <td>1863174.0</td>\n",
       "      <td>92.14</td>\n",
       "      <td>1.857670</td>\n",
       "    </tr>\n",
       "    <tr>\n",
       "      <th>216</th>\n",
       "      <td>DISTRICT291</td>\n",
       "      <td>STATE28</td>\n",
       "      <td>14</td>\n",
       "      <td>1188</td>\n",
       "      <td>165</td>\n",
       "      <td>3273127.0</td>\n",
       "      <td>52.49</td>\n",
       "      <td>-2.071771</td>\n",
       "    </tr>\n",
       "    <tr>\n",
       "      <th>367</th>\n",
       "      <td>DISTRICT66</td>\n",
       "      <td>STATE23</td>\n",
       "      <td>12</td>\n",
       "      <td>1169</td>\n",
       "      <td>116</td>\n",
       "      <td>1042304.0</td>\n",
       "      <td>62.14</td>\n",
       "      <td>-1.115425</td>\n",
       "    </tr>\n",
       "    <tr>\n",
       "      <th>254</th>\n",
       "      <td>DISTRICT458</td>\n",
       "      <td>STATE3</td>\n",
       "      <td>3</td>\n",
       "      <td>157</td>\n",
       "      <td>19</td>\n",
       "      <td>82839.0</td>\n",
       "      <td>76.33</td>\n",
       "      <td>0.290849</td>\n",
       "    </tr>\n",
       "    <tr>\n",
       "      <th>286</th>\n",
       "      <td>DISTRICT636</td>\n",
       "      <td>STATE35</td>\n",
       "      <td>3</td>\n",
       "      <td>187</td>\n",
       "      <td>44</td>\n",
       "      <td>514683.0</td>\n",
       "      <td>86.70</td>\n",
       "      <td>1.318549</td>\n",
       "    </tr>\n",
       "    <tr>\n",
       "      <th>369</th>\n",
       "      <td>DISTRICT512</td>\n",
       "      <td>STATE23</td>\n",
       "      <td>6</td>\n",
       "      <td>589</td>\n",
       "      <td>30</td>\n",
       "      <td>717169.0</td>\n",
       "      <td>68.35</td>\n",
       "      <td>-0.499994</td>\n",
       "    </tr>\n",
       "    <tr>\n",
       "      <th>258</th>\n",
       "      <td>DISTRICT156</td>\n",
       "      <td>STATE3</td>\n",
       "      <td>6</td>\n",
       "      <td>80</td>\n",
       "      <td>9</td>\n",
       "      <td>35289.0</td>\n",
       "      <td>59.94</td>\n",
       "      <td>-1.333452</td>\n",
       "    </tr>\n",
       "    <tr>\n",
       "      <th>10</th>\n",
       "      <td>DISTRICT412</td>\n",
       "      <td>STATE1</td>\n",
       "      <td>11</td>\n",
       "      <td>187</td>\n",
       "      <td>95</td>\n",
       "      <td>476820.0</td>\n",
       "      <td>68.69</td>\n",
       "      <td>-0.466299</td>\n",
       "    </tr>\n",
       "    <tr>\n",
       "      <th>512</th>\n",
       "      <td>DISTRICT277</td>\n",
       "      <td>STATE9</td>\n",
       "      <td>10</td>\n",
       "      <td>558</td>\n",
       "      <td>179</td>\n",
       "      <td>2298934.0</td>\n",
       "      <td>84.31</td>\n",
       "      <td>1.081692</td>\n",
       "    </tr>\n",
       "    <tr>\n",
       "      <th>144</th>\n",
       "      <td>DISTRICT133</td>\n",
       "      <td>STATE21</td>\n",
       "      <td>14</td>\n",
       "      <td>1672</td>\n",
       "      <td>136</td>\n",
       "      <td>3673849.0</td>\n",
       "      <td>69.61</td>\n",
       "      <td>-0.375124</td>\n",
       "    </tr>\n",
       "    <tr>\n",
       "      <th>325</th>\n",
       "      <td>DISTRICT1</td>\n",
       "      <td>STATE33</td>\n",
       "      <td>4</td>\n",
       "      <td>534</td>\n",
       "      <td>98</td>\n",
       "      <td>957853.0</td>\n",
       "      <td>69.37</td>\n",
       "      <td>-0.398909</td>\n",
       "    </tr>\n",
       "    <tr>\n",
       "      <th>227</th>\n",
       "      <td>DISTRICT159</td>\n",
       "      <td>STATE28</td>\n",
       "      <td>18</td>\n",
       "      <td>870</td>\n",
       "      <td>134</td>\n",
       "      <td>2954367.0</td>\n",
       "      <td>66.23</td>\n",
       "      <td>-0.710093</td>\n",
       "    </tr>\n",
       "    <tr>\n",
       "      <th>86</th>\n",
       "      <td>DISTRICT667</td>\n",
       "      <td>STATE25</td>\n",
       "      <td>5</td>\n",
       "      <td>396</td>\n",
       "      <td>75</td>\n",
       "      <td>896129.0</td>\n",
       "      <td>82.23</td>\n",
       "      <td>0.875558</td>\n",
       "    </tr>\n",
       "    <tr>\n",
       "      <th>425</th>\n",
       "      <td>DISTRICT144</td>\n",
       "      <td>STATE31</td>\n",
       "      <td>7</td>\n",
       "      <td>1064</td>\n",
       "      <td>108</td>\n",
       "      <td>2662077.0</td>\n",
       "      <td>71.59</td>\n",
       "      <td>-0.178900</td>\n",
       "    </tr>\n",
       "    <tr>\n",
       "      <th>260</th>\n",
       "      <td>DISTRICT305</td>\n",
       "      <td>STATE3</td>\n",
       "      <td>2</td>\n",
       "      <td>62</td>\n",
       "      <td>6</td>\n",
       "      <td>145538.0</td>\n",
       "      <td>69.88</td>\n",
       "      <td>-0.348366</td>\n",
       "    </tr>\n",
       "    <tr>\n",
       "      <th>281</th>\n",
       "      <td>DISTRICT385</td>\n",
       "      <td>STATE35</td>\n",
       "      <td>6</td>\n",
       "      <td>531</td>\n",
       "      <td>30</td>\n",
       "      <td>354972.0</td>\n",
       "      <td>75.00</td>\n",
       "      <td>0.159042</td>\n",
       "    </tr>\n",
       "    <tr>\n",
       "      <th>262</th>\n",
       "      <td>DISTRICT552</td>\n",
       "      <td>STATE3</td>\n",
       "      <td>3</td>\n",
       "      <td>103</td>\n",
       "      <td>4</td>\n",
       "      <td>111997.0</td>\n",
       "      <td>52.23</td>\n",
       "      <td>-2.097538</td>\n",
       "    </tr>\n",
       "    <tr>\n",
       "      <th>253</th>\n",
       "      <td>DISTRICT168</td>\n",
       "      <td>STATE3</td>\n",
       "      <td>5</td>\n",
       "      <td>312</td>\n",
       "      <td>16</td>\n",
       "      <td>176385.0</td>\n",
       "      <td>82.14</td>\n",
       "      <td>0.866639</td>\n",
       "    </tr>\n",
       "    <tr>\n",
       "      <th>301</th>\n",
       "      <td>DISTRICT551</td>\n",
       "      <td>STATE14</td>\n",
       "      <td>9</td>\n",
       "      <td>103</td>\n",
       "      <td>63</td>\n",
       "      <td>693281.0</td>\n",
       "      <td>88.29</td>\n",
       "      <td>1.476123</td>\n",
       "    </tr>\n",
       "    <tr>\n",
       "      <th>356</th>\n",
       "      <td>DISTRICT494</td>\n",
       "      <td>STATE34</td>\n",
       "      <td>25</td>\n",
       "      <td>2179</td>\n",
       "      <td>223</td>\n",
       "      <td>3596292.0</td>\n",
       "      <td>70.95</td>\n",
       "      <td>-0.242326</td>\n",
       "    </tr>\n",
       "    <tr>\n",
       "      <th>165</th>\n",
       "      <td>DISTRICT196</td>\n",
       "      <td>STATE21</td>\n",
       "      <td>10</td>\n",
       "      <td>1354</td>\n",
       "      <td>119</td>\n",
       "      <td>1795092.0</td>\n",
       "      <td>77.52</td>\n",
       "      <td>0.408782</td>\n",
       "    </tr>\n",
       "    <tr>\n",
       "      <th>565</th>\n",
       "      <td>DISTRICT308</td>\n",
       "      <td>STATE17</td>\n",
       "      <td>8</td>\n",
       "      <td>721</td>\n",
       "      <td>144</td>\n",
       "      <td>848868.0</td>\n",
       "      <td>86.54</td>\n",
       "      <td>1.302693</td>\n",
       "    </tr>\n",
       "    <tr>\n",
       "      <th>388</th>\n",
       "      <td>DISTRICT281</td>\n",
       "      <td>STATE23</td>\n",
       "      <td>6</td>\n",
       "      <td>392</td>\n",
       "      <td>58</td>\n",
       "      <td>949159.0</td>\n",
       "      <td>73.92</td>\n",
       "      <td>0.052010</td>\n",
       "    </tr>\n",
       "    <tr>\n",
       "      <th>461</th>\n",
       "      <td>DISTRICT619</td>\n",
       "      <td>STATE22</td>\n",
       "      <td>5</td>\n",
       "      <td>859</td>\n",
       "      <td>57</td>\n",
       "      <td>1064989.0</td>\n",
       "      <td>68.36</td>\n",
       "      <td>-0.499003</td>\n",
       "    </tr>\n",
       "    <tr>\n",
       "      <th>384</th>\n",
       "      <td>DISTRICT455</td>\n",
       "      <td>STATE23</td>\n",
       "      <td>9</td>\n",
       "      <td>1217</td>\n",
       "      <td>55</td>\n",
       "      <td>1063458.0</td>\n",
       "      <td>68.85</td>\n",
       "      <td>-0.450443</td>\n",
       "    </tr>\n",
       "    <tr>\n",
       "      <th>590</th>\n",
       "      <td>DISTRICT70</td>\n",
       "      <td>STATE20</td>\n",
       "      <td>7</td>\n",
       "      <td>427</td>\n",
       "      <td>84</td>\n",
       "      <td>1846993.0</td>\n",
       "      <td>80.30</td>\n",
       "      <td>0.684289</td>\n",
       "    </tr>\n",
       "    <tr>\n",
       "      <th>343</th>\n",
       "      <td>DISTRICT354</td>\n",
       "      <td>STATE33</td>\n",
       "      <td>2</td>\n",
       "      <td>192</td>\n",
       "      <td>46</td>\n",
       "      <td>1260419.0</td>\n",
       "      <td>88.66</td>\n",
       "      <td>1.512791</td>\n",
       "    </tr>\n",
       "    <tr>\n",
       "      <th>539</th>\n",
       "      <td>DISTRICT440</td>\n",
       "      <td>STATE17</td>\n",
       "      <td>15</td>\n",
       "      <td>1465</td>\n",
       "      <td>167</td>\n",
       "      <td>2887826.0</td>\n",
       "      <td>88.23</td>\n",
       "      <td>1.470177</td>\n",
       "    </tr>\n",
       "    <tr>\n",
       "      <th>459</th>\n",
       "      <td>DISTRICT431</td>\n",
       "      <td>STATE22</td>\n",
       "      <td>9</td>\n",
       "      <td>1778</td>\n",
       "      <td>143</td>\n",
       "      <td>2363744.0</td>\n",
       "      <td>73.42</td>\n",
       "      <td>0.002459</td>\n",
       "    </tr>\n",
       "    <tr>\n",
       "      <th>667</th>\n",
       "      <td>DISTRICT123</td>\n",
       "      <td>STATE11</td>\n",
       "      <td>3</td>\n",
       "      <td>80</td>\n",
       "      <td>16</td>\n",
       "      <td>237586.0</td>\n",
       "      <td>88.49</td>\n",
       "      <td>1.495944</td>\n",
       "    </tr>\n",
       "    <tr>\n",
       "      <th>387</th>\n",
       "      <td>DISTRICT231</td>\n",
       "      <td>STATE23</td>\n",
       "      <td>6</td>\n",
       "      <td>657</td>\n",
       "      <td>63</td>\n",
       "      <td>530299.0</td>\n",
       "      <td>64.51</td>\n",
       "      <td>-0.880551</td>\n",
       "    </tr>\n",
       "    <tr>\n",
       "      <th>306</th>\n",
       "      <td>DISTRICT37</td>\n",
       "      <td>STATE4</td>\n",
       "      <td>7</td>\n",
       "      <td>1083</td>\n",
       "      <td>92</td>\n",
       "      <td>642923.0</td>\n",
       "      <td>68.38</td>\n",
       "      <td>-0.497021</td>\n",
       "    </tr>\n",
       "    <tr>\n",
       "      <th>213</th>\n",
       "      <td>DISTRICT347</td>\n",
       "      <td>STATE28</td>\n",
       "      <td>11</td>\n",
       "      <td>623</td>\n",
       "      <td>94</td>\n",
       "      <td>2228397.0</td>\n",
       "      <td>59.65</td>\n",
       "      <td>-1.362192</td>\n",
       "    </tr>\n",
       "    <tr>\n",
       "      <th>97</th>\n",
       "      <td>DISTRICT22</td>\n",
       "      <td>STATE2</td>\n",
       "      <td>7</td>\n",
       "      <td>182</td>\n",
       "      <td>7</td>\n",
       "      <td>2531583.0</td>\n",
       "      <td>87.12</td>\n",
       "      <td>1.360172</td>\n",
       "    </tr>\n",
       "    <tr>\n",
       "      <th>78</th>\n",
       "      <td>DISTRICT247</td>\n",
       "      <td>STATE25</td>\n",
       "      <td>7</td>\n",
       "      <td>314</td>\n",
       "      <td>60</td>\n",
       "      <td>1332042.0</td>\n",
       "      <td>72.73</td>\n",
       "      <td>-0.065922</td>\n",
       "    </tr>\n",
       "    <tr>\n",
       "      <th>394</th>\n",
       "      <td>DISTRICT640</td>\n",
       "      <td>STATE24</td>\n",
       "      <td>17</td>\n",
       "      <td>1857</td>\n",
       "      <td>191</td>\n",
       "      <td>1802777.0</td>\n",
       "      <td>69.00</td>\n",
       "      <td>-0.435577</td>\n",
       "    </tr>\n",
       "    <tr>\n",
       "      <th>184</th>\n",
       "      <td>DISTRICT596</td>\n",
       "      <td>STATE21</td>\n",
       "      <td>11</td>\n",
       "      <td>1281</td>\n",
       "      <td>108</td>\n",
       "      <td>2149066.0</td>\n",
       "      <td>51.76</td>\n",
       "      <td>-2.144116</td>\n",
       "    </tr>\n",
       "    <tr>\n",
       "      <th>147</th>\n",
       "      <td>DISTRICT335</td>\n",
       "      <td>STATE21</td>\n",
       "      <td>17</td>\n",
       "      <td>1945</td>\n",
       "      <td>138</td>\n",
       "      <td>4380793.0</td>\n",
       "      <td>69.44</td>\n",
       "      <td>-0.391972</td>\n",
       "    </tr>\n",
       "    <tr>\n",
       "      <th>542</th>\n",
       "      <td>DISTRICT489</td>\n",
       "      <td>STATE17</td>\n",
       "      <td>7</td>\n",
       "      <td>749</td>\n",
       "      <td>63</td>\n",
       "      <td>1198810.0</td>\n",
       "      <td>85.14</td>\n",
       "      <td>1.163948</td>\n",
       "    </tr>\n",
       "    <tr>\n",
       "      <th>105</th>\n",
       "      <td>DISTRICT157</td>\n",
       "      <td>STATE13</td>\n",
       "      <td>14</td>\n",
       "      <td>1994</td>\n",
       "      <td>508</td>\n",
       "      <td>3671999.0</td>\n",
       "      <td>71.68</td>\n",
       "      <td>-0.169981</td>\n",
       "    </tr>\n",
       "    <tr>\n",
       "      <th>254</th>\n",
       "      <td>DISTRICT458</td>\n",
       "      <td>STATE3</td>\n",
       "      <td>3</td>\n",
       "      <td>157</td>\n",
       "      <td>19</td>\n",
       "      <td>82839.0</td>\n",
       "      <td>76.33</td>\n",
       "      <td>0.290849</td>\n",
       "    </tr>\n",
       "    <tr>\n",
       "      <th>109</th>\n",
       "      <td>DISTRICT158</td>\n",
       "      <td>STATE13</td>\n",
       "      <td>6</td>\n",
       "      <td>769</td>\n",
       "      <td>211</td>\n",
       "      <td>1338114.0</td>\n",
       "      <td>66.19</td>\n",
       "      <td>-0.714057</td>\n",
       "    </tr>\n",
       "    <tr>\n",
       "      <th>609</th>\n",
       "      <td>DISTRICT17</td>\n",
       "      <td>STATE20</td>\n",
       "      <td>4</td>\n",
       "      <td>359</td>\n",
       "      <td>59</td>\n",
       "      <td>9588910.0</td>\n",
       "      <td>88.48</td>\n",
       "      <td>1.494953</td>\n",
       "    </tr>\n",
       "    <tr>\n",
       "      <th>53</th>\n",
       "      <td>DISTRICT126</td>\n",
       "      <td>STATE26</td>\n",
       "      <td>3</td>\n",
       "      <td>197</td>\n",
       "      <td>21</td>\n",
       "      <td>596294.0</td>\n",
       "      <td>68.90</td>\n",
       "      <td>-0.445488</td>\n",
       "    </tr>\n",
       "    <tr>\n",
       "      <th>81</th>\n",
       "      <td>DISTRICT45</td>\n",
       "      <td>STATE25</td>\n",
       "      <td>9</td>\n",
       "      <td>351</td>\n",
       "      <td>130</td>\n",
       "      <td>1742815.0</td>\n",
       "      <td>73.24</td>\n",
       "      <td>-0.015380</td>\n",
       "    </tr>\n",
       "    <tr>\n",
       "      <th>516</th>\n",
       "      <td>DISTRICT300</td>\n",
       "      <td>STATE9</td>\n",
       "      <td>5</td>\n",
       "      <td>651</td>\n",
       "      <td>84</td>\n",
       "      <td>590379.0</td>\n",
       "      <td>73.29</td>\n",
       "      <td>-0.010425</td>\n",
       "    </tr>\n",
       "    <tr>\n",
       "      <th>641</th>\n",
       "      <td>DISTRICT484</td>\n",
       "      <td>STATE6</td>\n",
       "      <td>15</td>\n",
       "      <td>333</td>\n",
       "      <td>83</td>\n",
       "      <td>1721179.0</td>\n",
       "      <td>74.92</td>\n",
       "      <td>0.151114</td>\n",
       "    </tr>\n",
       "    <tr>\n",
       "      <th>650</th>\n",
       "      <td>DISTRICT145</td>\n",
       "      <td>STATE6</td>\n",
       "      <td>11</td>\n",
       "      <td>489</td>\n",
       "      <td>100</td>\n",
       "      <td>1614069.0</td>\n",
       "      <td>84.09</td>\n",
       "      <td>1.059890</td>\n",
       "    </tr>\n",
       "    <tr>\n",
       "      <th>70</th>\n",
       "      <td>DISTRICT99</td>\n",
       "      <td>STATE25</td>\n",
       "      <td>4</td>\n",
       "      <td>279</td>\n",
       "      <td>43</td>\n",
       "      <td>558890.0</td>\n",
       "      <td>83.44</td>\n",
       "      <td>0.995473</td>\n",
       "    </tr>\n",
       "    <tr>\n",
       "      <th>163</th>\n",
       "      <td>DISTRICT366</td>\n",
       "      <td>STATE21</td>\n",
       "      <td>9</td>\n",
       "      <td>1330</td>\n",
       "      <td>86</td>\n",
       "      <td>1579160.0</td>\n",
       "      <td>79.99</td>\n",
       "      <td>0.653567</td>\n",
       "    </tr>\n",
       "  </tbody>\n",
       "</table>\n",
       "</div>"
      ],
      "text/plain": [
       "        DISTNAME STATNAME  BLOCKS  VILLAGES  CLUSTERS  TOTPOPULAT  OVERALL_LI  \\\n",
       "661  DISTRICT528   STATE6       9       112        89   1863174.0       92.14   \n",
       "216  DISTRICT291  STATE28      14      1188       165   3273127.0       52.49   \n",
       "367   DISTRICT66  STATE23      12      1169       116   1042304.0       62.14   \n",
       "254  DISTRICT458   STATE3       3       157        19     82839.0       76.33   \n",
       "286  DISTRICT636  STATE35       3       187        44    514683.0       86.70   \n",
       "369  DISTRICT512  STATE23       6       589        30    717169.0       68.35   \n",
       "258  DISTRICT156   STATE3       6        80         9     35289.0       59.94   \n",
       "10   DISTRICT412   STATE1      11       187        95    476820.0       68.69   \n",
       "512  DISTRICT277   STATE9      10       558       179   2298934.0       84.31   \n",
       "144  DISTRICT133  STATE21      14      1672       136   3673849.0       69.61   \n",
       "325    DISTRICT1  STATE33       4       534        98    957853.0       69.37   \n",
       "227  DISTRICT159  STATE28      18       870       134   2954367.0       66.23   \n",
       "86   DISTRICT667  STATE25       5       396        75    896129.0       82.23   \n",
       "425  DISTRICT144  STATE31       7      1064       108   2662077.0       71.59   \n",
       "260  DISTRICT305   STATE3       2        62         6    145538.0       69.88   \n",
       "281  DISTRICT385  STATE35       6       531        30    354972.0       75.00   \n",
       "262  DISTRICT552   STATE3       3       103         4    111997.0       52.23   \n",
       "253  DISTRICT168   STATE3       5       312        16    176385.0       82.14   \n",
       "301  DISTRICT551  STATE14       9       103        63    693281.0       88.29   \n",
       "356  DISTRICT494  STATE34      25      2179       223   3596292.0       70.95   \n",
       "165  DISTRICT196  STATE21      10      1354       119   1795092.0       77.52   \n",
       "565  DISTRICT308  STATE17       8       721       144    848868.0       86.54   \n",
       "388  DISTRICT281  STATE23       6       392        58    949159.0       73.92   \n",
       "461  DISTRICT619  STATE22       5       859        57   1064989.0       68.36   \n",
       "384  DISTRICT455  STATE23       9      1217        55   1063458.0       68.85   \n",
       "590   DISTRICT70  STATE20       7       427        84   1846993.0       80.30   \n",
       "343  DISTRICT354  STATE33       2       192        46   1260419.0       88.66   \n",
       "539  DISTRICT440  STATE17      15      1465       167   2887826.0       88.23   \n",
       "459  DISTRICT431  STATE22       9      1778       143   2363744.0       73.42   \n",
       "667  DISTRICT123  STATE11       3        80        16    237586.0       88.49   \n",
       "387  DISTRICT231  STATE23       6       657        63    530299.0       64.51   \n",
       "306   DISTRICT37   STATE4       7      1083        92    642923.0       68.38   \n",
       "213  DISTRICT347  STATE28      11       623        94   2228397.0       59.65   \n",
       "97    DISTRICT22   STATE2       7       182         7   2531583.0       87.12   \n",
       "78   DISTRICT247  STATE25       7       314        60   1332042.0       72.73   \n",
       "394  DISTRICT640  STATE24      17      1857       191   1802777.0       69.00   \n",
       "184  DISTRICT596  STATE21      11      1281       108   2149066.0       51.76   \n",
       "147  DISTRICT335  STATE21      17      1945       138   4380793.0       69.44   \n",
       "542  DISTRICT489  STATE17       7       749        63   1198810.0       85.14   \n",
       "105  DISTRICT157  STATE13      14      1994       508   3671999.0       71.68   \n",
       "254  DISTRICT458   STATE3       3       157        19     82839.0       76.33   \n",
       "109  DISTRICT158  STATE13       6       769       211   1338114.0       66.19   \n",
       "609   DISTRICT17  STATE20       4       359        59   9588910.0       88.48   \n",
       "53   DISTRICT126  STATE26       3       197        21    596294.0       68.90   \n",
       "81    DISTRICT45  STATE25       9       351       130   1742815.0       73.24   \n",
       "516  DISTRICT300   STATE9       5       651        84    590379.0       73.29   \n",
       "641  DISTRICT484   STATE6      15       333        83   1721179.0       74.92   \n",
       "650  DISTRICT145   STATE6      11       489       100   1614069.0       84.09   \n",
       "70    DISTRICT99  STATE25       4       279        43    558890.0       83.44   \n",
       "163  DISTRICT366  STATE21       9      1330        86   1579160.0       79.99   \n",
       "\n",
       "      Z_SCORE  \n",
       "661  1.857670  \n",
       "216 -2.071771  \n",
       "367 -1.115425  \n",
       "254  0.290849  \n",
       "286  1.318549  \n",
       "369 -0.499994  \n",
       "258 -1.333452  \n",
       "10  -0.466299  \n",
       "512  1.081692  \n",
       "144 -0.375124  \n",
       "325 -0.398909  \n",
       "227 -0.710093  \n",
       "86   0.875558  \n",
       "425 -0.178900  \n",
       "260 -0.348366  \n",
       "281  0.159042  \n",
       "262 -2.097538  \n",
       "253  0.866639  \n",
       "301  1.476123  \n",
       "356 -0.242326  \n",
       "165  0.408782  \n",
       "565  1.302693  \n",
       "388  0.052010  \n",
       "461 -0.499003  \n",
       "384 -0.450443  \n",
       "590  0.684289  \n",
       "343  1.512791  \n",
       "539  1.470177  \n",
       "459  0.002459  \n",
       "667  1.495944  \n",
       "387 -0.880551  \n",
       "306 -0.497021  \n",
       "213 -1.362192  \n",
       "97   1.360172  \n",
       "78  -0.065922  \n",
       "394 -0.435577  \n",
       "184 -2.144116  \n",
       "147 -0.391972  \n",
       "542  1.163948  \n",
       "105 -0.169981  \n",
       "254  0.290849  \n",
       "109 -0.714057  \n",
       "609  1.494953  \n",
       "53  -0.445488  \n",
       "81  -0.015380  \n",
       "516 -0.010425  \n",
       "641  0.151114  \n",
       "650  1.059890  \n",
       "70   0.995473  \n",
       "163  0.653567  "
      ]
     },
     "execution_count": 80,
     "metadata": {},
     "output_type": "execute_result"
    }
   ],
   "source": [
    "sampled_data = education_districtwise.sample(n=50, replace=True, random_state=31208)\n",
    "sampled_data"
   ]
  },
  {
   "cell_type": "markdown",
   "metadata": {},
   "source": [
    "The output shows 50 districts randomly selected from my dataset, with some potential duplicates due to sampling with replacement."
   ]
  },
  {
   "cell_type": "markdown",
   "metadata": {},
   "source": [
    "#### Compute the Sample Mean\n",
    "\n",
    "Now that I have my random sample, I compute the sample mean:"
   ]
  },
  {
   "cell_type": "code",
   "execution_count": 81,
   "metadata": {},
   "outputs": [
    {
     "data": {
      "text/plain": [
       "np.float64(74.22359999999999)"
      ]
     },
     "execution_count": 81,
     "metadata": {},
     "output_type": "execute_result"
    }
   ],
   "source": [
    "estimate1 = sampled_data['OVERALL_LI'].mean()\n",
    "estimate1"
   ]
  },
  {
   "cell_type": "markdown",
   "metadata": {},
   "source": [
    "The sample mean for district literacy rate is approximately **74.22%**, serving as a point estimate of the population mean based on my random sample of 50 districts. The population mean, however, represents the literacy rate for *all* districts. Due to sampling variability, the sample mean typically differs slightly from the actual population mean.  \n",
    "\n",
    "Now, I’ll compute the sample mean using a different random sample of 50 districts. To do this, I’ll create a new variable called `estimate2`, set `n = 50`, and keep `replace = True`. This time, I’ll use a different random seed, **56,810**, to ensure a new sample is generated. Finally, I’ll apply `mean()` to calculate the sample mean.\n"
   ]
  },
  {
   "cell_type": "code",
   "execution_count": 82,
   "metadata": {},
   "outputs": [
    {
     "data": {
      "text/plain": [
       "np.float64(74.2478)"
      ]
     },
     "execution_count": 82,
     "metadata": {},
     "output_type": "execute_result"
    }
   ],
   "source": [
    "estimate2 = education_districtwise['OVERALL_LI'].sample(n=50, replace=True, random_state=56810).mean()\n",
    "estimate2"
   ]
  },
  {
   "cell_type": "markdown",
   "metadata": {},
   "source": [
    "The second sample mean is about 74.25%. Due to sampling variability, this sample mean differs slightly from my previous estimate."
   ]
  },
  {
   "cell_type": "markdown",
   "metadata": {},
   "source": [
    "### The Central Limit Theorem\n",
    "\n",
    "The central limit theorem states that when the sample size is large enough, the sample mean approaches a normal distribution. As I sample more observations, the sample mean gets closer to the population mean.\n",
    "\n",
    "In this case, the population mean represents the overall literacy rate for *all* districts in the nation. Earlier, I found that the population mean literacy rate is **73.39%**. Based on sampling, my first estimated sample mean was **74.22%**, and my second estimate was **74.24%**. Both estimates are relatively close to the population mean, demonstrating how random sampling can provide reasonable approximations of the true population parameter.  \n",
    "\n",
    "\n",
    "I find the population mean:"
   ]
  },
  {
   "cell_type": "code",
   "execution_count": 83,
   "metadata": {},
   "outputs": [
    {
     "data": {
      "text/plain": [
       "np.float64(73.39518927444796)"
      ]
     },
     "execution_count": 83,
     "metadata": {},
     "output_type": "execute_result"
    }
   ],
   "source": [
    "population_mean = education_districtwise['OVERALL_LI'].mean()\n",
    "population_mean"
   ]
  },
  {
   "cell_type": "markdown",
   "metadata": {},
   "source": [
    "The population mean literacy rate is 73.39%. Both sample means (74.22% and 74.25%) are relatively close to this value.\n"
   ]
  },
  {
   "cell_type": "markdown",
   "metadata": {},
   "source": [
    "\n",
    "#### Compute the Mean of a Sampling Distribution with 10,000 Samples\n",
    "\n",
    "Now, imagine this study is repeated **10,000 times**, obtaining **10,000 point estimates** of the mean. In other words, I take **10,000 random samples** of **50 districts** and compute the mean for each sample. According to the **central limit theorem**, the mean of this **sampling distribution** will be roughly equal to the **population mean**, reinforcing the idea that repeated random sampling provides an accurate estimate of the true population parameter.  \n"
   ]
  },
  {
   "cell_type": "code",
   "execution_count": 84,
   "metadata": {},
   "outputs": [],
   "source": [
    "estimate_list = []\n",
    "for i in range(10000):\n",
    "    estimate_list.append(education_districtwise['OVERALL_LI'].sample(n=50, replace=True).mean())\n",
    "    \n",
    "estimate_df = pd.DataFrame(data={'estimate': estimate_list})"
   ]
  },
  {
   "cell_type": "markdown",
   "metadata": {},
   "source": [
    "In the code above, the **random seed** is not set inside the loop, meaning the random sampling for each iteration may not be reproducible. If I want to ensure that the results are **consistent across runs**, I would set the random seed inside the loop or before it starts.\n",
    "\n",
    "Since a **random seed** wasn’t specified for each loop iteration, the rows sampled will be different by default each time the code is executed.\n",
    "\n",
    "Now, I will name a new variable, `mean_sample_means`, and compute the **mean for the sampling distribution** of **10,000 random samples**.\n"
   ]
  },
  {
   "cell_type": "code",
   "execution_count": 85,
   "metadata": {},
   "outputs": [
    {
     "data": {
      "text/plain": [
       "np.float64(73.40521849999998)"
      ]
     },
     "execution_count": 85,
     "metadata": {},
     "output_type": "execute_result"
    }
   ],
   "source": [
    "mean_sample_means = estimate_df['estimate'].mean()\n",
    "mean_sample_means"
   ]
  },
  {
   "cell_type": "markdown",
   "metadata": {},
   "source": [
    "The mean of my sampling distribution is about 73.4%, which is essentially identical to the population mean.\n"
   ]
  },
  {
   "cell_type": "markdown",
   "metadata": {},
   "source": [
    "\n",
    "#### Visualize the Data\n",
    "\n",
    "To visualize the relationship between the **sampling distribution** of **10,000 estimates** and the **normal distribution**, I will plot both simultaneously.\n"
   ]
  },
  {
   "cell_type": "code",
   "execution_count": 86,
   "metadata": {},
   "outputs": [
    {
     "data": {
      "image/png": "[encoded data removed]",
      "text/plain": [
       "<Figure size 640x480 with 1 Axes>"
      ]
     },
     "metadata": {},
     "output_type": "display_data"
    }
   ],
   "source": [
    "plt.hist(estimate_df['estimate'], bins=25, density=True, alpha=0.4, label=\"Histogram of sample means of 10000 random samples\")\n",
    "xmin, xmax = plt.xlim()\n",
    "x = np.linspace(xmin, xmax, 100)\n",
    "p = stats.norm.pdf(x, mean_sample_means, stats.tstd(estimate_df['estimate']))\n",
    "plt.plot(x, p, 'k', linewidth=2, label='Normal curve from central limit theorem')\n",
    "plt.axvline(x=population_mean, color='g', linestyle='solid', label='Population mean')\n",
    "plt.axvline(x=estimate1, color='r', linestyle='--', label='Sample mean of the first random sample')\n",
    "plt.axvline(x=mean_sample_means, color='b', linestyle=':', label='Mean of sample means of 10000 random samples')\n",
    "plt.title(\"Sampling Distribution of Sample Mean\")\n",
    "plt.xlabel('Sample mean')\n",
    "plt.ylabel('Density')\n",
    "plt.legend(bbox_to_anchor=(1.04,1))\n",
    "plt.show()"
   ]
  },
  {
   "cell_type": "markdown",
   "metadata": {},
   "source": [
    "#### Observations from the Sampling Distribution Graph\n",
    "\n",
    "The histogram of the sampling distribution closely follows a normal curve, as predicted by the central limit theorem.\n",
    "\n",
    "The mean of the sampling distribution (blue dotted line) overlaps with the population mean (green solid line), confirming their similarity.\n",
    "\n",
    "The sample mean of my first estimate (red dashed line) is farther from the center due to sampling variability."
   ]
  },
  {
   "cell_type": "markdown",
   "metadata": {},
   "source": [
    "The central limit theorem demonstrates that as I increase the sample size, my estimate becomes more accurate. My first sample of 50 districts estimated the mean district literacy rate as 74.22%, which is close to the population mean of 73.4%.\n",
    "\n",
    "To make my estimate useful to the government, I compare the nation's literacy rate to other benchmarks, such as the global literacy rate or the literacy rate of peer nations. If the nation's literacy rate is below these benchmarks, this may help justify allocating more resources to improve literacy across the country."
   ]
  },
  {
   "cell_type": "markdown",
   "metadata": {},
   "source": [
    "### Key Takeaways\n",
    "\n",
    "- Different random samples result in slightly different sample means due to natural sampling variability.\n",
    "\n",
    "- As sample size increases, the sample mean distribution approaches a normal curve, improving estimate reliability.\n",
    "\n",
    "- The mean of 10,000 sample means (73.4%) closely matches the population mean (73.39%), confirming accurate estimation.\n",
    "\n",
    "- Larger sample sizes reduce variability and improve the precision of point estimates.\n",
    "\n",
    "- The sampling distribution follows a normal curve, validating the Central Limit Theorem (CLT)."
   ]
  },
  {
   "cell_type": "markdown",
   "metadata": {},
   "source": [
    "# Constructing Confidence Intervals with Python"
   ]
  },
  {
   "cell_type": "markdown",
   "metadata": {},
   "source": [
    "## Introduction \n",
    "\n",
    "In this section, I will learn how to use Python to construct confidence intervals for point estimates. Confidence intervals provide a range of values within which the true population parameter is likely to fall, helping to quantify uncertainty in statistical estimates. I will explore how to calculate and interpret confidence intervals, enhancing my understanding of statistical inference and data-driven decision-making."
   ]
  },
  {
   "cell_type": "markdown",
   "metadata": {},
   "source": [
    "### Selecting a Random Sample\n",
    "\n",
    "I work with a random sample of 50 districts from the dataset. To maintain consistency in results, I set the random_state parameter to 31208."
   ]
  },
  {
   "cell_type": "code",
   "execution_count": 87,
   "metadata": {},
   "outputs": [
    {
     "data": {
      "text/html": [
       "<div>\n",
       "<style scoped>\n",
       "    .dataframe tbody tr th:only-of-type {\n",
       "        vertical-align: middle;\n",
       "    }\n",
       "\n",
       "    .dataframe tbody tr th {\n",
       "        vertical-align: top;\n",
       "    }\n",
       "\n",
       "    .dataframe thead th {\n",
       "        text-align: right;\n",
       "    }\n",
       "</style>\n",
       "<table border=\"1\" class=\"dataframe\">\n",
       "  <thead>\n",
       "    <tr style=\"text-align: right;\">\n",
       "      <th></th>\n",
       "      <th>DISTNAME</th>\n",
       "      <th>STATNAME</th>\n",
       "      <th>BLOCKS</th>\n",
       "      <th>VILLAGES</th>\n",
       "      <th>CLUSTERS</th>\n",
       "      <th>TOTPOPULAT</th>\n",
       "      <th>OVERALL_LI</th>\n",
       "      <th>Z_SCORE</th>\n",
       "    </tr>\n",
       "  </thead>\n",
       "  <tbody>\n",
       "    <tr>\n",
       "      <th>661</th>\n",
       "      <td>DISTRICT528</td>\n",
       "      <td>STATE6</td>\n",
       "      <td>9</td>\n",
       "      <td>112</td>\n",
       "      <td>89</td>\n",
       "      <td>1863174.0</td>\n",
       "      <td>92.14</td>\n",
       "      <td>1.857670</td>\n",
       "    </tr>\n",
       "    <tr>\n",
       "      <th>216</th>\n",
       "      <td>DISTRICT291</td>\n",
       "      <td>STATE28</td>\n",
       "      <td>14</td>\n",
       "      <td>1188</td>\n",
       "      <td>165</td>\n",
       "      <td>3273127.0</td>\n",
       "      <td>52.49</td>\n",
       "      <td>-2.071771</td>\n",
       "    </tr>\n",
       "    <tr>\n",
       "      <th>367</th>\n",
       "      <td>DISTRICT66</td>\n",
       "      <td>STATE23</td>\n",
       "      <td>12</td>\n",
       "      <td>1169</td>\n",
       "      <td>116</td>\n",
       "      <td>1042304.0</td>\n",
       "      <td>62.14</td>\n",
       "      <td>-1.115425</td>\n",
       "    </tr>\n",
       "    <tr>\n",
       "      <th>254</th>\n",
       "      <td>DISTRICT458</td>\n",
       "      <td>STATE3</td>\n",
       "      <td>3</td>\n",
       "      <td>157</td>\n",
       "      <td>19</td>\n",
       "      <td>82839.0</td>\n",
       "      <td>76.33</td>\n",
       "      <td>0.290849</td>\n",
       "    </tr>\n",
       "    <tr>\n",
       "      <th>286</th>\n",
       "      <td>DISTRICT636</td>\n",
       "      <td>STATE35</td>\n",
       "      <td>3</td>\n",
       "      <td>187</td>\n",
       "      <td>44</td>\n",
       "      <td>514683.0</td>\n",
       "      <td>86.70</td>\n",
       "      <td>1.318549</td>\n",
       "    </tr>\n",
       "    <tr>\n",
       "      <th>369</th>\n",
       "      <td>DISTRICT512</td>\n",
       "      <td>STATE23</td>\n",
       "      <td>6</td>\n",
       "      <td>589</td>\n",
       "      <td>30</td>\n",
       "      <td>717169.0</td>\n",
       "      <td>68.35</td>\n",
       "      <td>-0.499994</td>\n",
       "    </tr>\n",
       "    <tr>\n",
       "      <th>258</th>\n",
       "      <td>DISTRICT156</td>\n",
       "      <td>STATE3</td>\n",
       "      <td>6</td>\n",
       "      <td>80</td>\n",
       "      <td>9</td>\n",
       "      <td>35289.0</td>\n",
       "      <td>59.94</td>\n",
       "      <td>-1.333452</td>\n",
       "    </tr>\n",
       "    <tr>\n",
       "      <th>10</th>\n",
       "      <td>DISTRICT412</td>\n",
       "      <td>STATE1</td>\n",
       "      <td>11</td>\n",
       "      <td>187</td>\n",
       "      <td>95</td>\n",
       "      <td>476820.0</td>\n",
       "      <td>68.69</td>\n",
       "      <td>-0.466299</td>\n",
       "    </tr>\n",
       "    <tr>\n",
       "      <th>512</th>\n",
       "      <td>DISTRICT277</td>\n",
       "      <td>STATE9</td>\n",
       "      <td>10</td>\n",
       "      <td>558</td>\n",
       "      <td>179</td>\n",
       "      <td>2298934.0</td>\n",
       "      <td>84.31</td>\n",
       "      <td>1.081692</td>\n",
       "    </tr>\n",
       "    <tr>\n",
       "      <th>144</th>\n",
       "      <td>DISTRICT133</td>\n",
       "      <td>STATE21</td>\n",
       "      <td>14</td>\n",
       "      <td>1672</td>\n",
       "      <td>136</td>\n",
       "      <td>3673849.0</td>\n",
       "      <td>69.61</td>\n",
       "      <td>-0.375124</td>\n",
       "    </tr>\n",
       "    <tr>\n",
       "      <th>325</th>\n",
       "      <td>DISTRICT1</td>\n",
       "      <td>STATE33</td>\n",
       "      <td>4</td>\n",
       "      <td>534</td>\n",
       "      <td>98</td>\n",
       "      <td>957853.0</td>\n",
       "      <td>69.37</td>\n",
       "      <td>-0.398909</td>\n",
       "    </tr>\n",
       "    <tr>\n",
       "      <th>227</th>\n",
       "      <td>DISTRICT159</td>\n",
       "      <td>STATE28</td>\n",
       "      <td>18</td>\n",
       "      <td>870</td>\n",
       "      <td>134</td>\n",
       "      <td>2954367.0</td>\n",
       "      <td>66.23</td>\n",
       "      <td>-0.710093</td>\n",
       "    </tr>\n",
       "    <tr>\n",
       "      <th>86</th>\n",
       "      <td>DISTRICT667</td>\n",
       "      <td>STATE25</td>\n",
       "      <td>5</td>\n",
       "      <td>396</td>\n",
       "      <td>75</td>\n",
       "      <td>896129.0</td>\n",
       "      <td>82.23</td>\n",
       "      <td>0.875558</td>\n",
       "    </tr>\n",
       "    <tr>\n",
       "      <th>425</th>\n",
       "      <td>DISTRICT144</td>\n",
       "      <td>STATE31</td>\n",
       "      <td>7</td>\n",
       "      <td>1064</td>\n",
       "      <td>108</td>\n",
       "      <td>2662077.0</td>\n",
       "      <td>71.59</td>\n",
       "      <td>-0.178900</td>\n",
       "    </tr>\n",
       "    <tr>\n",
       "      <th>260</th>\n",
       "      <td>DISTRICT305</td>\n",
       "      <td>STATE3</td>\n",
       "      <td>2</td>\n",
       "      <td>62</td>\n",
       "      <td>6</td>\n",
       "      <td>145538.0</td>\n",
       "      <td>69.88</td>\n",
       "      <td>-0.348366</td>\n",
       "    </tr>\n",
       "    <tr>\n",
       "      <th>281</th>\n",
       "      <td>DISTRICT385</td>\n",
       "      <td>STATE35</td>\n",
       "      <td>6</td>\n",
       "      <td>531</td>\n",
       "      <td>30</td>\n",
       "      <td>354972.0</td>\n",
       "      <td>75.00</td>\n",
       "      <td>0.159042</td>\n",
       "    </tr>\n",
       "    <tr>\n",
       "      <th>262</th>\n",
       "      <td>DISTRICT552</td>\n",
       "      <td>STATE3</td>\n",
       "      <td>3</td>\n",
       "      <td>103</td>\n",
       "      <td>4</td>\n",
       "      <td>111997.0</td>\n",
       "      <td>52.23</td>\n",
       "      <td>-2.097538</td>\n",
       "    </tr>\n",
       "    <tr>\n",
       "      <th>253</th>\n",
       "      <td>DISTRICT168</td>\n",
       "      <td>STATE3</td>\n",
       "      <td>5</td>\n",
       "      <td>312</td>\n",
       "      <td>16</td>\n",
       "      <td>176385.0</td>\n",
       "      <td>82.14</td>\n",
       "      <td>0.866639</td>\n",
       "    </tr>\n",
       "    <tr>\n",
       "      <th>301</th>\n",
       "      <td>DISTRICT551</td>\n",
       "      <td>STATE14</td>\n",
       "      <td>9</td>\n",
       "      <td>103</td>\n",
       "      <td>63</td>\n",
       "      <td>693281.0</td>\n",
       "      <td>88.29</td>\n",
       "      <td>1.476123</td>\n",
       "    </tr>\n",
       "    <tr>\n",
       "      <th>356</th>\n",
       "      <td>DISTRICT494</td>\n",
       "      <td>STATE34</td>\n",
       "      <td>25</td>\n",
       "      <td>2179</td>\n",
       "      <td>223</td>\n",
       "      <td>3596292.0</td>\n",
       "      <td>70.95</td>\n",
       "      <td>-0.242326</td>\n",
       "    </tr>\n",
       "    <tr>\n",
       "      <th>165</th>\n",
       "      <td>DISTRICT196</td>\n",
       "      <td>STATE21</td>\n",
       "      <td>10</td>\n",
       "      <td>1354</td>\n",
       "      <td>119</td>\n",
       "      <td>1795092.0</td>\n",
       "      <td>77.52</td>\n",
       "      <td>0.408782</td>\n",
       "    </tr>\n",
       "    <tr>\n",
       "      <th>565</th>\n",
       "      <td>DISTRICT308</td>\n",
       "      <td>STATE17</td>\n",
       "      <td>8</td>\n",
       "      <td>721</td>\n",
       "      <td>144</td>\n",
       "      <td>848868.0</td>\n",
       "      <td>86.54</td>\n",
       "      <td>1.302693</td>\n",
       "    </tr>\n",
       "    <tr>\n",
       "      <th>388</th>\n",
       "      <td>DISTRICT281</td>\n",
       "      <td>STATE23</td>\n",
       "      <td>6</td>\n",
       "      <td>392</td>\n",
       "      <td>58</td>\n",
       "      <td>949159.0</td>\n",
       "      <td>73.92</td>\n",
       "      <td>0.052010</td>\n",
       "    </tr>\n",
       "    <tr>\n",
       "      <th>461</th>\n",
       "      <td>DISTRICT619</td>\n",
       "      <td>STATE22</td>\n",
       "      <td>5</td>\n",
       "      <td>859</td>\n",
       "      <td>57</td>\n",
       "      <td>1064989.0</td>\n",
       "      <td>68.36</td>\n",
       "      <td>-0.499003</td>\n",
       "    </tr>\n",
       "    <tr>\n",
       "      <th>384</th>\n",
       "      <td>DISTRICT455</td>\n",
       "      <td>STATE23</td>\n",
       "      <td>9</td>\n",
       "      <td>1217</td>\n",
       "      <td>55</td>\n",
       "      <td>1063458.0</td>\n",
       "      <td>68.85</td>\n",
       "      <td>-0.450443</td>\n",
       "    </tr>\n",
       "    <tr>\n",
       "      <th>590</th>\n",
       "      <td>DISTRICT70</td>\n",
       "      <td>STATE20</td>\n",
       "      <td>7</td>\n",
       "      <td>427</td>\n",
       "      <td>84</td>\n",
       "      <td>1846993.0</td>\n",
       "      <td>80.30</td>\n",
       "      <td>0.684289</td>\n",
       "    </tr>\n",
       "    <tr>\n",
       "      <th>343</th>\n",
       "      <td>DISTRICT354</td>\n",
       "      <td>STATE33</td>\n",
       "      <td>2</td>\n",
       "      <td>192</td>\n",
       "      <td>46</td>\n",
       "      <td>1260419.0</td>\n",
       "      <td>88.66</td>\n",
       "      <td>1.512791</td>\n",
       "    </tr>\n",
       "    <tr>\n",
       "      <th>539</th>\n",
       "      <td>DISTRICT440</td>\n",
       "      <td>STATE17</td>\n",
       "      <td>15</td>\n",
       "      <td>1465</td>\n",
       "      <td>167</td>\n",
       "      <td>2887826.0</td>\n",
       "      <td>88.23</td>\n",
       "      <td>1.470177</td>\n",
       "    </tr>\n",
       "    <tr>\n",
       "      <th>459</th>\n",
       "      <td>DISTRICT431</td>\n",
       "      <td>STATE22</td>\n",
       "      <td>9</td>\n",
       "      <td>1778</td>\n",
       "      <td>143</td>\n",
       "      <td>2363744.0</td>\n",
       "      <td>73.42</td>\n",
       "      <td>0.002459</td>\n",
       "    </tr>\n",
       "    <tr>\n",
       "      <th>667</th>\n",
       "      <td>DISTRICT123</td>\n",
       "      <td>STATE11</td>\n",
       "      <td>3</td>\n",
       "      <td>80</td>\n",
       "      <td>16</td>\n",
       "      <td>237586.0</td>\n",
       "      <td>88.49</td>\n",
       "      <td>1.495944</td>\n",
       "    </tr>\n",
       "    <tr>\n",
       "      <th>387</th>\n",
       "      <td>DISTRICT231</td>\n",
       "      <td>STATE23</td>\n",
       "      <td>6</td>\n",
       "      <td>657</td>\n",
       "      <td>63</td>\n",
       "      <td>530299.0</td>\n",
       "      <td>64.51</td>\n",
       "      <td>-0.880551</td>\n",
       "    </tr>\n",
       "    <tr>\n",
       "      <th>306</th>\n",
       "      <td>DISTRICT37</td>\n",
       "      <td>STATE4</td>\n",
       "      <td>7</td>\n",
       "      <td>1083</td>\n",
       "      <td>92</td>\n",
       "      <td>642923.0</td>\n",
       "      <td>68.38</td>\n",
       "      <td>-0.497021</td>\n",
       "    </tr>\n",
       "    <tr>\n",
       "      <th>213</th>\n",
       "      <td>DISTRICT347</td>\n",
       "      <td>STATE28</td>\n",
       "      <td>11</td>\n",
       "      <td>623</td>\n",
       "      <td>94</td>\n",
       "      <td>2228397.0</td>\n",
       "      <td>59.65</td>\n",
       "      <td>-1.362192</td>\n",
       "    </tr>\n",
       "    <tr>\n",
       "      <th>97</th>\n",
       "      <td>DISTRICT22</td>\n",
       "      <td>STATE2</td>\n",
       "      <td>7</td>\n",
       "      <td>182</td>\n",
       "      <td>7</td>\n",
       "      <td>2531583.0</td>\n",
       "      <td>87.12</td>\n",
       "      <td>1.360172</td>\n",
       "    </tr>\n",
       "    <tr>\n",
       "      <th>78</th>\n",
       "      <td>DISTRICT247</td>\n",
       "      <td>STATE25</td>\n",
       "      <td>7</td>\n",
       "      <td>314</td>\n",
       "      <td>60</td>\n",
       "      <td>1332042.0</td>\n",
       "      <td>72.73</td>\n",
       "      <td>-0.065922</td>\n",
       "    </tr>\n",
       "    <tr>\n",
       "      <th>394</th>\n",
       "      <td>DISTRICT640</td>\n",
       "      <td>STATE24</td>\n",
       "      <td>17</td>\n",
       "      <td>1857</td>\n",
       "      <td>191</td>\n",
       "      <td>1802777.0</td>\n",
       "      <td>69.00</td>\n",
       "      <td>-0.435577</td>\n",
       "    </tr>\n",
       "    <tr>\n",
       "      <th>184</th>\n",
       "      <td>DISTRICT596</td>\n",
       "      <td>STATE21</td>\n",
       "      <td>11</td>\n",
       "      <td>1281</td>\n",
       "      <td>108</td>\n",
       "      <td>2149066.0</td>\n",
       "      <td>51.76</td>\n",
       "      <td>-2.144116</td>\n",
       "    </tr>\n",
       "    <tr>\n",
       "      <th>147</th>\n",
       "      <td>DISTRICT335</td>\n",
       "      <td>STATE21</td>\n",
       "      <td>17</td>\n",
       "      <td>1945</td>\n",
       "      <td>138</td>\n",
       "      <td>4380793.0</td>\n",
       "      <td>69.44</td>\n",
       "      <td>-0.391972</td>\n",
       "    </tr>\n",
       "    <tr>\n",
       "      <th>542</th>\n",
       "      <td>DISTRICT489</td>\n",
       "      <td>STATE17</td>\n",
       "      <td>7</td>\n",
       "      <td>749</td>\n",
       "      <td>63</td>\n",
       "      <td>1198810.0</td>\n",
       "      <td>85.14</td>\n",
       "      <td>1.163948</td>\n",
       "    </tr>\n",
       "    <tr>\n",
       "      <th>105</th>\n",
       "      <td>DISTRICT157</td>\n",
       "      <td>STATE13</td>\n",
       "      <td>14</td>\n",
       "      <td>1994</td>\n",
       "      <td>508</td>\n",
       "      <td>3671999.0</td>\n",
       "      <td>71.68</td>\n",
       "      <td>-0.169981</td>\n",
       "    </tr>\n",
       "    <tr>\n",
       "      <th>254</th>\n",
       "      <td>DISTRICT458</td>\n",
       "      <td>STATE3</td>\n",
       "      <td>3</td>\n",
       "      <td>157</td>\n",
       "      <td>19</td>\n",
       "      <td>82839.0</td>\n",
       "      <td>76.33</td>\n",
       "      <td>0.290849</td>\n",
       "    </tr>\n",
       "    <tr>\n",
       "      <th>109</th>\n",
       "      <td>DISTRICT158</td>\n",
       "      <td>STATE13</td>\n",
       "      <td>6</td>\n",
       "      <td>769</td>\n",
       "      <td>211</td>\n",
       "      <td>1338114.0</td>\n",
       "      <td>66.19</td>\n",
       "      <td>-0.714057</td>\n",
       "    </tr>\n",
       "    <tr>\n",
       "      <th>609</th>\n",
       "      <td>DISTRICT17</td>\n",
       "      <td>STATE20</td>\n",
       "      <td>4</td>\n",
       "      <td>359</td>\n",
       "      <td>59</td>\n",
       "      <td>9588910.0</td>\n",
       "      <td>88.48</td>\n",
       "      <td>1.494953</td>\n",
       "    </tr>\n",
       "    <tr>\n",
       "      <th>53</th>\n",
       "      <td>DISTRICT126</td>\n",
       "      <td>STATE26</td>\n",
       "      <td>3</td>\n",
       "      <td>197</td>\n",
       "      <td>21</td>\n",
       "      <td>596294.0</td>\n",
       "      <td>68.90</td>\n",
       "      <td>-0.445488</td>\n",
       "    </tr>\n",
       "    <tr>\n",
       "      <th>81</th>\n",
       "      <td>DISTRICT45</td>\n",
       "      <td>STATE25</td>\n",
       "      <td>9</td>\n",
       "      <td>351</td>\n",
       "      <td>130</td>\n",
       "      <td>1742815.0</td>\n",
       "      <td>73.24</td>\n",
       "      <td>-0.015380</td>\n",
       "    </tr>\n",
       "    <tr>\n",
       "      <th>516</th>\n",
       "      <td>DISTRICT300</td>\n",
       "      <td>STATE9</td>\n",
       "      <td>5</td>\n",
       "      <td>651</td>\n",
       "      <td>84</td>\n",
       "      <td>590379.0</td>\n",
       "      <td>73.29</td>\n",
       "      <td>-0.010425</td>\n",
       "    </tr>\n",
       "    <tr>\n",
       "      <th>641</th>\n",
       "      <td>DISTRICT484</td>\n",
       "      <td>STATE6</td>\n",
       "      <td>15</td>\n",
       "      <td>333</td>\n",
       "      <td>83</td>\n",
       "      <td>1721179.0</td>\n",
       "      <td>74.92</td>\n",
       "      <td>0.151114</td>\n",
       "    </tr>\n",
       "    <tr>\n",
       "      <th>650</th>\n",
       "      <td>DISTRICT145</td>\n",
       "      <td>STATE6</td>\n",
       "      <td>11</td>\n",
       "      <td>489</td>\n",
       "      <td>100</td>\n",
       "      <td>1614069.0</td>\n",
       "      <td>84.09</td>\n",
       "      <td>1.059890</td>\n",
       "    </tr>\n",
       "    <tr>\n",
       "      <th>70</th>\n",
       "      <td>DISTRICT99</td>\n",
       "      <td>STATE25</td>\n",
       "      <td>4</td>\n",
       "      <td>279</td>\n",
       "      <td>43</td>\n",
       "      <td>558890.0</td>\n",
       "      <td>83.44</td>\n",
       "      <td>0.995473</td>\n",
       "    </tr>\n",
       "    <tr>\n",
       "      <th>163</th>\n",
       "      <td>DISTRICT366</td>\n",
       "      <td>STATE21</td>\n",
       "      <td>9</td>\n",
       "      <td>1330</td>\n",
       "      <td>86</td>\n",
       "      <td>1579160.0</td>\n",
       "      <td>79.99</td>\n",
       "      <td>0.653567</td>\n",
       "    </tr>\n",
       "  </tbody>\n",
       "</table>\n",
       "</div>"
      ],
      "text/plain": [
       "        DISTNAME STATNAME  BLOCKS  VILLAGES  CLUSTERS  TOTPOPULAT  OVERALL_LI  \\\n",
       "661  DISTRICT528   STATE6       9       112        89   1863174.0       92.14   \n",
       "216  DISTRICT291  STATE28      14      1188       165   3273127.0       52.49   \n",
       "367   DISTRICT66  STATE23      12      1169       116   1042304.0       62.14   \n",
       "254  DISTRICT458   STATE3       3       157        19     82839.0       76.33   \n",
       "286  DISTRICT636  STATE35       3       187        44    514683.0       86.70   \n",
       "369  DISTRICT512  STATE23       6       589        30    717169.0       68.35   \n",
       "258  DISTRICT156   STATE3       6        80         9     35289.0       59.94   \n",
       "10   DISTRICT412   STATE1      11       187        95    476820.0       68.69   \n",
       "512  DISTRICT277   STATE9      10       558       179   2298934.0       84.31   \n",
       "144  DISTRICT133  STATE21      14      1672       136   3673849.0       69.61   \n",
       "325    DISTRICT1  STATE33       4       534        98    957853.0       69.37   \n",
       "227  DISTRICT159  STATE28      18       870       134   2954367.0       66.23   \n",
       "86   DISTRICT667  STATE25       5       396        75    896129.0       82.23   \n",
       "425  DISTRICT144  STATE31       7      1064       108   2662077.0       71.59   \n",
       "260  DISTRICT305   STATE3       2        62         6    145538.0       69.88   \n",
       "281  DISTRICT385  STATE35       6       531        30    354972.0       75.00   \n",
       "262  DISTRICT552   STATE3       3       103         4    111997.0       52.23   \n",
       "253  DISTRICT168   STATE3       5       312        16    176385.0       82.14   \n",
       "301  DISTRICT551  STATE14       9       103        63    693281.0       88.29   \n",
       "356  DISTRICT494  STATE34      25      2179       223   3596292.0       70.95   \n",
       "165  DISTRICT196  STATE21      10      1354       119   1795092.0       77.52   \n",
       "565  DISTRICT308  STATE17       8       721       144    848868.0       86.54   \n",
       "388  DISTRICT281  STATE23       6       392        58    949159.0       73.92   \n",
       "461  DISTRICT619  STATE22       5       859        57   1064989.0       68.36   \n",
       "384  DISTRICT455  STATE23       9      1217        55   1063458.0       68.85   \n",
       "590   DISTRICT70  STATE20       7       427        84   1846993.0       80.30   \n",
       "343  DISTRICT354  STATE33       2       192        46   1260419.0       88.66   \n",
       "539  DISTRICT440  STATE17      15      1465       167   2887826.0       88.23   \n",
       "459  DISTRICT431  STATE22       9      1778       143   2363744.0       73.42   \n",
       "667  DISTRICT123  STATE11       3        80        16    237586.0       88.49   \n",
       "387  DISTRICT231  STATE23       6       657        63    530299.0       64.51   \n",
       "306   DISTRICT37   STATE4       7      1083        92    642923.0       68.38   \n",
       "213  DISTRICT347  STATE28      11       623        94   2228397.0       59.65   \n",
       "97    DISTRICT22   STATE2       7       182         7   2531583.0       87.12   \n",
       "78   DISTRICT247  STATE25       7       314        60   1332042.0       72.73   \n",
       "394  DISTRICT640  STATE24      17      1857       191   1802777.0       69.00   \n",
       "184  DISTRICT596  STATE21      11      1281       108   2149066.0       51.76   \n",
       "147  DISTRICT335  STATE21      17      1945       138   4380793.0       69.44   \n",
       "542  DISTRICT489  STATE17       7       749        63   1198810.0       85.14   \n",
       "105  DISTRICT157  STATE13      14      1994       508   3671999.0       71.68   \n",
       "254  DISTRICT458   STATE3       3       157        19     82839.0       76.33   \n",
       "109  DISTRICT158  STATE13       6       769       211   1338114.0       66.19   \n",
       "609   DISTRICT17  STATE20       4       359        59   9588910.0       88.48   \n",
       "53   DISTRICT126  STATE26       3       197        21    596294.0       68.90   \n",
       "81    DISTRICT45  STATE25       9       351       130   1742815.0       73.24   \n",
       "516  DISTRICT300   STATE9       5       651        84    590379.0       73.29   \n",
       "641  DISTRICT484   STATE6      15       333        83   1721179.0       74.92   \n",
       "650  DISTRICT145   STATE6      11       489       100   1614069.0       84.09   \n",
       "70    DISTRICT99  STATE25       4       279        43    558890.0       83.44   \n",
       "163  DISTRICT366  STATE21       9      1330        86   1579160.0       79.99   \n",
       "\n",
       "      Z_SCORE  \n",
       "661  1.857670  \n",
       "216 -2.071771  \n",
       "367 -1.115425  \n",
       "254  0.290849  \n",
       "286  1.318549  \n",
       "369 -0.499994  \n",
       "258 -1.333452  \n",
       "10  -0.466299  \n",
       "512  1.081692  \n",
       "144 -0.375124  \n",
       "325 -0.398909  \n",
       "227 -0.710093  \n",
       "86   0.875558  \n",
       "425 -0.178900  \n",
       "260 -0.348366  \n",
       "281  0.159042  \n",
       "262 -2.097538  \n",
       "253  0.866639  \n",
       "301  1.476123  \n",
       "356 -0.242326  \n",
       "165  0.408782  \n",
       "565  1.302693  \n",
       "388  0.052010  \n",
       "461 -0.499003  \n",
       "384 -0.450443  \n",
       "590  0.684289  \n",
       "343  1.512791  \n",
       "539  1.470177  \n",
       "459  0.002459  \n",
       "667  1.495944  \n",
       "387 -0.880551  \n",
       "306 -0.497021  \n",
       "213 -1.362192  \n",
       "97   1.360172  \n",
       "78  -0.065922  \n",
       "394 -0.435577  \n",
       "184 -2.144116  \n",
       "147 -0.391972  \n",
       "542  1.163948  \n",
       "105 -0.169981  \n",
       "254  0.290849  \n",
       "109 -0.714057  \n",
       "609  1.494953  \n",
       "53  -0.445488  \n",
       "81  -0.015380  \n",
       "516 -0.010425  \n",
       "641  0.151114  \n",
       "650  1.059890  \n",
       "70   0.995473  \n",
       "163  0.653567  "
      ]
     },
     "execution_count": 87,
     "metadata": {},
     "output_type": "execute_result"
    }
   ],
   "source": [
    "sampled_data = education_districtwise.sample(n=50, replace=True, random_state=31208)\n",
    "sampled_data"
   ]
  },
  {
   "cell_type": "markdown",
   "metadata": {},
   "source": [
    "### Constructing a 95% Confidence Interval\n",
    "\n",
    "To construct a 95% confidence interval for the mean district literacy rate, I follow these four steps:\n",
    "\n",
    "1. Identify a sample statistic\n",
    "\n",
    "2. Choose a confidence level\n",
    "\n",
    "3. Find the margin of error\n",
    "\n",
    "4. Calculate the interval"
   ]
  },
  {
   "cell_type": "markdown",
   "metadata": {},
   "source": [
    "### `scipy.stats.norm.interval()`\n",
    "\n",
    "Earlier, I worked through these steps one by one to construct a confidence interval. With Python, I can construct a confidence interval with just a **single line of code**—getting results **faster**!  \n",
    "\n",
    "If working with a **large sample size** (greater than **30**), I can use `scipy.stats.norm.interval()` to construct a confidence interval for the mean. This function requires the following arguments:  \n",
    "\n",
    "- **`alpha`**: The confidence level  \n",
    "- **`loc`**: The sample mean  \n",
    "- **`scale`**: The sample standard error  \n"
   ]
  },
  {
   "cell_type": "markdown",
   "metadata": {},
   "source": [
    "#### `alpha`: The Confidence Level  \n",
    "\n",
    "The **Department of Education** requests a **95% confidence level**, which is the accepted standard for **government-funded research**.\n"
   ]
  },
  {
   "cell_type": "markdown",
   "metadata": {},
   "source": [
    "#### Sample Mean\n",
    "#### `loc`: The Sample Mean  \n",
    "\n",
    "\n",
    "First, I compute the mean literacy rate for the sample data:\n",
    "\n",
    "\n",
    "The **sample mean** represents the average literacy rate of a randomly selected sample of **50 districts**.  \n",
    "\n",
    "Now, I will name a new variable, `sample_mean`, and compute the **mean district literacy rate** for the sample data.\n"
   ]
  },
  {
   "cell_type": "code",
   "execution_count": 88,
   "metadata": {},
   "outputs": [
    {
     "data": {
      "text/plain": [
       "np.float64(74.22359999999999)"
      ]
     },
     "execution_count": 88,
     "metadata": {},
     "output_type": "execute_result"
    }
   ],
   "source": [
    "sample_mean = sampled_data['OVERALL_LI'].mean()\n",
    "sample_mean"
   ]
  },
  {
   "cell_type": "markdown",
   "metadata": {},
   "source": [
    "#### Sample Standard Error\n",
    "\n",
    "#### `scale`: The Sample Standard Error  \n",
    "\n",
    "\n",
    "Next, I calculate the estimated standard error:\n",
    "\n",
    "The **standard error** measures the variability of the sample data. It is calculated as the **sample standard deviation divided by the square root of the sample size**.  \n",
    "\n",
    "**Note:** In practice, the true standard error is usually unknown, so it is replaced with the **estimated standard error**.\n"
   ]
  },
  {
   "cell_type": "code",
   "execution_count": 89,
   "metadata": {},
   "outputs": [],
   "source": [
    "estimated_standard_error = sampled_data['OVERALL_LI'].std() / np.sqrt(sampled_data.shape[0])"
   ]
  },
  {
   "cell_type": "markdown",
   "metadata": {},
   "source": [
    "#### Computing the Confidence Interval\n",
    "\n",
    "Using scipy.stats.norm.interval(), I construct the 95% confidence interval:"
   ]
  },
  {
   "cell_type": "code",
   "execution_count": 90,
   "metadata": {},
   "outputs": [
    {
     "data": {
      "text/plain": [
       "(np.float64(71.42241096968617), np.float64(77.02478903031381))"
      ]
     },
     "execution_count": 90,
     "metadata": {},
     "output_type": "execute_result"
    }
   ],
   "source": [
    "stats.norm.interval(confidence=0.95, loc=sample_mean, scale=estimated_standard_error)"
   ]
  },
  {
   "cell_type": "markdown",
   "metadata": {},
   "source": [
    "This results in a 95% confidence interval for the mean district literacy rate of approximately (71.42, 77.02)."
   ]
  },
  {
   "cell_type": "markdown",
   "metadata": {},
   "source": [
    "The Department of Education will use this estimate of the mean district literacy rate to help make decisions about distributing funds to different states.  "
   ]
  },
  {
   "cell_type": "markdown",
   "metadata": {},
   "source": [
    "### Constructing a 99% Confidence Interval'\n",
    "\n",
    "To compute a 99% confidence interval, I modify the alpha parameter to `0.99`:Now, imagine that a **senior director** in the department wants to be even *more* confident about my results. To ensure a **reliable estimate**, the director suggests recalculating the confidence interval with a **99% confidence level**.\n",
    "\n",
    "To compute a **99% confidence interval** using the same sample data, I simply change the **`alpha`** value to `0.99`.\n"
   ]
  },
  {
   "cell_type": "code",
   "execution_count": 91,
   "metadata": {},
   "outputs": [
    {
     "data": {
      "text/plain": [
       "(np.float64(71.42241096968617), np.float64(77.02478903031381))"
      ]
     },
     "execution_count": 91,
     "metadata": {},
     "output_type": "execute_result"
    }
   ],
   "source": [
    "stats.norm.interval(confidence=0.95, loc=sample_mean, scale=estimated_standard_error)"
   ]
  },
  {
   "cell_type": "markdown",
   "metadata": {},
   "source": [
    "This results in a 95% confidence interval for the mean district literacy rate of approximately (71.42, 77.02)."
   ]
  },
  {
   "cell_type": "markdown",
   "metadata": {},
   "source": [
    "#### Relationship Between Confidence Level and Confidence Interval\n",
    "\n",
    "Observing the confidence intervals:\n",
    "\n",
    "95% CI: (71.42, 77.02) → Covers 5.6 percentage points\n",
    "\n",
    "99% CI: (70.54, 77.90) → Covers 7.4 percentage points\n",
    "\n",
    "As the confidence level increases, the confidence interval becomes wider. A wider confidence interval increases the likelihood of including the actual population parameter.\n",
    "\n",
    "These results will assist the Department of Education in distributing government resources to improve literacy rates."
   ]
  },
  {
   "cell_type": "markdown",
   "metadata": {},
   "source": [
    "### Key Takeaways\n",
    "\n",
    "- Confidence intervals provide a range where the true population mean is likely to fall, helping quantify uncertainty in estimates.\n",
    "\n",
    "- A higher confidence level increases the likelihood of capturing the true mean but results in a wider interval.\n",
    "\n",
    "- The standard error, derived from sample variability, is crucial for constructing confidence intervals.\n",
    "\n",
    "- Python's `scipy.stats.norm.interval()` function simplifies confidence interval calculations for large samples.\n",
    "\n",
    "- Confidence intervals support data-driven decision-making, such as allocating resources in education."
   ]
  },
  {
   "cell_type": "markdown",
   "metadata": {},
   "source": [
    "# Conducting a Two-Sample Hypothesis Test in Python"
   ]
  },
  {
   "cell_type": "markdown",
   "metadata": {},
   "source": [
    "## Introduction\n",
    "\n",
    "In this section, I will use Python to conduct a two-sample hypothesis test. Hypothesis testing is a fundamental statistical technique used to compare two groups and determine whether their differences are statistically significant. I will apply key statistical concepts, leverage Python libraries such as SciPy, and confidently interpret the results of my hypothesis test."
   ]
  },
  {
   "cell_type": "markdown",
   "metadata": {},
   "source": [
    "This section continues the scenario, where I am a data professional working for the Department of Education of a large nation. I analyze data on literacy rates for each district.\n",
    "\n",
    "The Department of Education asks me to collect data on mean district literacy rates for two of the nation’s largest states: STATE21 and STATE28. STATE28 has almost 40 districts, and STATE21 has more than 70. Due to limited time and resources, I am only able to survey 20 randomly chosen districts in each state. The department asks me to determine if the difference between the two mean district literacy rates is statistically significant or due to chance. This helps decide how to distribute government funding to improve literacy.\n",
    "\n",
    "In this activity, I use Python to simulate taking a random sample of 20 districts in each state and conduct a two-sample t-test based on the sample data."
   ]
  },
  {
   "cell_type": "markdown",
   "metadata": {},
   "source": [
    "### Explore the Data"
   ]
  },
  {
   "cell_type": "markdown",
   "metadata": {},
   "source": [
    "To start, I filter the dataframe for the district literacy rate data from the states STATE21 and STATE28."
   ]
  },
  {
   "cell_type": "code",
   "execution_count": 92,
   "metadata": {},
   "outputs": [],
   "source": [
    "state21 = education_districtwise[education_districtwise['STATNAME'] == \"STATE21\"]\n",
    "state28 = education_districtwise[education_districtwise['STATNAME'] == \"STATE28\"]"
   ]
  },
  {
   "cell_type": "markdown",
   "metadata": {},
   "source": [
    "#### Simulate Random Sampling\n",
    "\n",
    "Now that I have organized my data, I use the `sample()` function to take a random sample of 20 districts from each state."
   ]
  },
  {
   "cell_type": "code",
   "execution_count": 93,
   "metadata": {},
   "outputs": [],
   "source": [
    "sampled_state21 = state21.sample(n=20, replace=True, random_state=13490)\n",
    "sampled_state28 = state28.sample(n=20, replace=True, random_state=39103)"
   ]
  },
  {
   "cell_type": "markdown",
   "metadata": {},
   "source": [
    "#### Compute the Sample Means\n",
    "\n",
    "I now have two random samples of 20 districts—one sample for each state. Next, I use `mean()` to compute the mean district literacy rate for both STATE21 and STATE28."
   ]
  },
  {
   "cell_type": "code",
   "execution_count": 94,
   "metadata": {},
   "outputs": [
    {
     "name": "stdout",
     "output_type": "stream",
     "text": [
      "70.82900000000001\n",
      "64.60100000000001\n",
      "6.227999999999994\n"
     ]
    }
   ],
   "source": [
    "mean_state21 = sampled_state21['OVERALL_LI'].mean()\n",
    "mean_state28 = sampled_state28['OVERALL_LI'].mean()\n",
    "diff_means = mean_state21 - mean_state28\n",
    "print(mean_state21)\n",
    "print(mean_state28)\n",
    "print(diff_means)"
   ]
  },
  {
   "cell_type": "markdown",
   "metadata": {},
   "source": [
    "STATE21 has a mean district literacy rate of about 70.8%, while STATE28 has a mean district literacy rate of about 64.6%.\n"
   ]
  },
  {
   "cell_type": "markdown",
   "metadata": {},
   "source": [
    "The observed difference between the mean district literacy rates of STATE21 and STATE28 is 6.2 percentage points."
   ]
  },
  {
   "cell_type": "markdown",
   "metadata": {},
   "source": [
    "**Note**: At this point, one might be tempted to conclude that **STATE21** has a higher overall literacy rate than **STATE28**. However, due to **sampling variability**, this observed difference could simply be due to **chance** rather than an actual difference in the **population means**.\n",
    "\n",
    "To determine whether this difference is **statistically significant**, I will conduct a **hypothesis test**.\n"
   ]
  },
  {
   "cell_type": "markdown",
   "metadata": {},
   "source": [
    "#### Conduct a Hypothesis Test"
   ]
  },
  {
   "cell_type": "markdown",
   "metadata": {},
   "source": [
    "Now that I have organized my data and simulated random sampling, I am ready to conduct my hypothesis test.\n",
    "\n",
    "- Step 1: State the Null and Alternative Hypothesis\n",
    "\n",
    "The **null hypothesis** is a statement that is assumed to be true unless there is **convincing evidence** to the contrary. The **alternative hypothesis** contradicts the null hypothesis and is only accepted if there is strong evidence to support it.\n",
    "\n",
    "In a **two-sample t-test**, the **null hypothesis** states that there is **no difference** between the means of the two groups. The **alternative hypothesis** asserts the opposite: that there **is** a difference between the means of the two groups.\n",
    "\n",
    "I use $H_0$ to denote the null hypothesis and $H_a$ to denote the alternative hypothesis.\n",
    "\n",
    "\n",
    "  - Null hypothesis (H₀): There is no difference in the mean district literacy rates between STATE21 and STATE28.\n",
    "\n",
    "  - Alternative hypothesis (Hₐ): There is a difference in the mean district literacy rates between STATE21 and STATE28.\n",
    "\n",
    "- Step 2: Choose a Significance Level\n",
    "\n",
    "The **significance level** is the threshold at which I will consider a result statistically significant. This is the probability of rejecting the null hypothesis when it is true. The Department of Education asked  me to use their standard level of 5%, or 0.05.  \n",
    "\n",
    "I use a significance level of 5%, or 0.05.\n",
    "\n",
    "- Step 3: Find the P-Value\n",
    "\n",
    "The **p-value** represents the probability of observing results as or more extreme than those observed, assuming the **null hypothesis** is true.\n",
    "\n",
    "Based on the sample data, the **difference between the mean district literacy rates** of **STATE21 and STATE28** is **6.2 percentage points**. The **null hypothesis** suggests that this difference is purely due to chance. \n",
    "\n",
    "The **p-value** measures the probability of observing an absolute difference in sample means **of 6.2 or greater**, given that the null hypothesis holds. If this probability is **very low**—specifically, if the **p-value is less than 5% (0.05)**—then the null hypothesis will be **rejected**.\n",
    "\n",
    "\n",
    "I use `scipy.stats.ttest_ind()` to compute my p-value.\n",
    "\n",
    "For a two-sample $t$-test, I can use `scipy.stats.ttest_ind()` to compute your p-value. This function includes the following arguments:\n",
    "\n",
    "*   `a`: Observations from the first sample \n",
    "*   `b`: Observations from the second sample\n",
    "*   `equal_var`: A boolean, or true/false statement, which indicates whether the population variance of the two samples is assumed to be equal. \n",
    "  \n",
    "In this example, I don’t have access to data for the **entire population**, so I should avoid assuming anything about the **variance**. To prevent making an incorrect assumption, I will set this argument to **False**.\n"
   ]
  },
  {
   "cell_type": "code",
   "execution_count": 95,
   "metadata": {},
   "outputs": [],
   "source": [
    "p_value = stats.ttest_ind(sampled_state21['OVERALL_LI'], sampled_state28['OVERALL_LI'], equal_var=False).pvalue"
   ]
  },
  {
   "cell_type": "markdown",
   "metadata": {},
   "source": [
    "The computed p-value is about 0.0064, or 0.64%."
   ]
  },
  {
   "cell_type": "markdown",
   "metadata": {},
   "source": [
    "- Step 4: Reject or Fail to Reject the Null Hypothesis\n",
    "\n",
    "I compare my p-value with the significance level:\n",
    "\n",
    "If the p-value is less than 0.05, I reject the null hypothesis.\n",
    "\n",
    "If the p-value is greater than 0.05, I fail to reject the null hypothesis.\n",
    "\n",
    "Since my p-value of 0.0064 is less than 0.05, I reject the null hypothesis and conclude that there is a statistically significant difference between the mean district literacy rates of the two states. This analysis helps the Department of Education decide how to distribute government resources. Since STATE28 has a lower literacy rate, it will likely receive more resources to improve literacy."
   ]
  },
  {
   "cell_type": "markdown",
   "metadata": {},
   "source": [
    "### Key Takeaways\n",
    "\n",
    "- A two-sample hypothesis test helps determine if the difference between two group means is statistically significant.\n",
    "\n",
    "- Using Python’s `sample()` function ensures unbiased sample selection, making statistical conclusions more reliable.\n",
    "\n",
    "- A low p-value (0.0064) indicates strong evidence against the null hypothesis, confirming a significant difference in literacy rates between the two states.\n",
    "\n",
    "- Statistical analysis guides resource allocation, ensuring funding is directed toward states with lower literacy rates.\n",
    "\n",
    "- The `scipy.stats.ttest_ind()` function simplifies hypothesis testing, making it accessible for real-world applications in education and beyond."
   ]
  },
  {
   "cell_type": "markdown",
   "metadata": {},
   "source": [
    "# Conclusion\n",
    "\n",
    "The District Literacy Analysis project provided a comprehensive exploration of literacy rate data across various districts in a large nation. Through descriptive statistics, probability distribution analysis, random sampling, confidence intervals, and hypothesis testing, we uncovered significant insights into the educational landscape. Key findings include the identification of a normal distribution in literacy rates, the detection of outliers with unusually low literacy rates, and the confirmation of statistically significant differences in literacy rates between two major states. The analysis revealed that the average literacy rate across districts is approximately 73%, with notable disparities that highlight the need for targeted interventions. These insights are crucial for informing policy decisions and resource allocation to improve literacy rates nationwide."
   ]
  },
  {
   "cell_type": "markdown",
   "metadata": {},
   "source": [
    "## Top Three Recommendations Based on Insights\n",
    "\n",
    "- **Targeted Interventions for Low-Literacy Districts**: The analysis identified two districts (DISTRICT461 and DISTRICT429) with literacy rates more than three standard deviations below the mean. These districts should be prioritized for additional funding, educational resources, and targeted programs to address the underlying causes of low literacy rates.\n",
    "\n",
    "- **Resource Allocation Based on State-Level Disparities**: The hypothesis test revealed a statistically significant difference in literacy rates between STATE21 and STATE28. Given that STATE28 has a lower literacy rate, it should receive more resources and support from the Department of Education to bridge the gap and improve educational outcomes.\n",
    "\n",
    "- **Enhanced Data Collection and Monitoring**: While the dataset provided valuable insights, continuous monitoring and enhanced data collection are essential. Expanding the dataset to include more recent data and additional variables (e.g., socioeconomic factors, teacher-to-student ratios) can provide a more comprehensive understanding of the factors influencing literacy rates and help refine intervention strategies."
   ]
  },
  {
   "cell_type": "markdown",
   "metadata": {},
   "source": [
    "## Application of Insights\n",
    "\n",
    "The insights gained from this analysis have several practical applications:\n",
    "\n",
    "- **Policy Formulation and Resource Allocation**: The findings can guide policymakers in formulating targeted policies and allocating resources to districts and states with the greatest need. By focusing on low-literacy districts and states, the government can ensure that resources are used effectively to improve literacy rates.\n",
    "\n",
    "- **Educational Program Development**: The identification of specific districts and states with low literacy rates can inform the development of tailored educational programs. These programs can address the unique challenges faced by these regions, such as lack of infrastructure, teacher shortages, or socioeconomic barriers.\n",
    "\n",
    "- **Monitoring and Evaluation**: The insights can be used to establish a framework for monitoring and evaluating the impact of interventions. By tracking literacy rates over time, the Department of Education can assess the effectiveness of its programs and make data-driven adjustments to ensure continuous improvement."
   ]
  },
  {
   "cell_type": "markdown",
   "metadata": {},
   "source": [
    "\n",
    "## Application of Insights\n",
    "\n",
    "The insights gained from this analysis have several practical applications:\n",
    "\n",
    "- **Policy Formulation and Resource Allocation**: The findings can guide policymakers in formulating targeted policies and allocating resources to districts and states with the greatest need. By focusing on low-literacy districts and states, the government can ensure that resources are used effectively to improve literacy rates.\n",
    "\n",
    "- **Educational Program Development**: The identification of specific districts and states with low literacy rates can inform the development of tailored educational programs. These programs can address the unique challenges faced by these regions, such as lack of infrastructure, teacher shortages, or socioeconomic barriers.\n",
    "\n",
    "- **Monitoring and Evaluation**: The insights can be used to establish a framework for monitoring and evaluating the impact of interventions. By tracking literacy rates over time, the Department of Education can assess the effectiveness of its programs and make data-driven adjustments to ensure continuous improvement."
   ]
  },
  {
   "cell_type": "markdown",
   "metadata": {},
   "source": [
    "## Next Steps\n",
    "\n",
    "- **Expand Data Collection and Analysis**: Future efforts should focus on expanding the dataset to include more recent data and additional variables that may influence literacy rates, such as socioeconomic indicators, school infrastructure, and teacher qualifications. This will provide a more comprehensive understanding of the factors affecting literacy and enable more targeted interventions.\n",
    "\n",
    "- **Develop Predictive Models**: Using the insights from this analysis, predictive models can be developed to forecast future literacy rates based on historical trends and other influencing factors. These models can help policymakers anticipate challenges and proactively allocate resources to prevent further disparities.\n",
    "\n",
    "- **Conduct Regional-Specific Studies**: While this analysis provided a broad overview of literacy rates across districts, regional-specific studies can offer deeper insights into localized challenges and opportunities. For example, focusing on rural versus urban districts or specific states can help identify unique trends and inform more targeted strategies.\n",
    "\n",
    "- **Integrate with Other Educational Data**: Combining literacy rate data with other educational datasets, such as dropout rates, student performance, and teacher training programs, can provide a more holistic understanding of the educational landscape. This integrated approach can enhance the accuracy of predictive models and improve the effectiveness of intervention strategies.\n",
    "\n",
    "- **Address Data Quality Issues**: Ongoing efforts should be made to address any data quality issues, such as missing values or inconsistencies. Implementing automated data validation processes can help ensure the dataset's integrity and reliability for future analyses.\n",
    "\n",
    "By building on the insights from this project, future research can further advance our understanding of literacy trends and their implications for educational policy, resource allocation, and program development. This will ultimately contribute to the nation's goal of achieving equitable and high-quality education for all."
   ]
  }
 ],
 "metadata": {
  "kernelspec": {
   "display_name": "venv",
   "language": "python",
   "name": "python3"
  },
  "language_info": {
   "codemirror_mode": {
    "name": "ipython",
    "version": 3
   },
   "file_extension": ".py",
   "mimetype": "text/x-python",
   "name": "python",
   "nbconvert_exporter": "python",
   "pygments_lexer": "ipython3",
   "version": "3.13.0"
  }
 },
 "nbformat": 4,
 "nbformat_minor": 2
}
